{
    "metadata": {
        "kernelspec": {
            "name": "SQL",
            "display_name": "SQL",
            "language": "sql"
        },
        "language_info": {
            "name": "sql",
            "version": ""
        }
    },
    "nbformat_minor": 2,
    "nbformat": 4,
    "cells": [
        {
            "cell_type": "markdown",
            "source": [
                "# **Transact-SQL**\n",
                "\n",
                "### [The Building Blocks to SQL Server Programming](https://drive.google.com/file/d/1UTuTraPWyKHiMxRy84eSM1UsUR8CfT-7/view?usp=sharing)  \n",
                "\n",
                "**By Gregory A. Larsen**"
            ],
            "metadata": {
                "azdata_cell_guid": "a7f48f64-a94a-4aeb-bfef-15e9dc171f2d"
            },
            "attachments": {}
        },
        {
            "cell_type": "markdown",
            "source": [
                "## **Chapter 1 - The Basic SELECT Statement**"
            ],
            "metadata": {
                "azdata_cell_guid": "dbfe7ebf-5318-4713-a779-f72f742d08f9"
            },
            "attachments": {}
        },
        {
            "cell_type": "markdown",
            "source": [
                "### **The Three Parts in a SELECT Statement**\n",
                "\n",
                "A basic **SELECT** statement that returns data from a single table consists of three different parts: The Column list, the **FROM** clause, and the **WHERE** Clause. The syntax for constructing a basic SELECT statement using these different components looks like:"
            ],
            "metadata": {
                "azdata_cell_guid": "1239dbbf-116b-4bea-b04d-7fb7f3dab08f"
            },
            "attachments": {}
        },
        {
            "cell_type": "code",
            "source": [
                "SELECT <Column List>\n",
                "FROM <table name>\n",
                "WHERE <where criteria>"
            ],
            "metadata": {
                "azdata_cell_guid": "ca2192d8-15cc-418e-b4de-06b15f1c677b",
                "language": "sql"
            },
            "outputs": [],
            "execution_count": null
        },
        {
            "cell_type": "markdown",
            "source": [
                "The _**\\<Column List\\>**_ will contain a list of columns that you want to returned from the query, _**\\<table\\_name\\>**_ will contain the table from which the data is selected, and the **_\\<where criteria\\>_** will identify the search criteria that will be used to constrain the rows that will be returned from the SELECT statement. Note that the WHERE clause is optional."
            ],
            "metadata": {
                "language": "sql",
                "azdata_cell_guid": "48448a5d-9c41-4898-b2ee-7399c4b311bf"
            },
            "attachments": {}
        },
        {
            "cell_type": "code",
            "source": [
                "SELECT  ProductCategoryID,\n",
                "        NAME\n",
                "FROM    Production.ProductCategory\n",
                "WHERE   ProductCategoryID < 2 ;"
            ],
            "metadata": {
                "language": "sql",
                "azdata_cell_guid": "bf343bb6-7bfe-4737-aae3-695ca11ba69d"
            },
            "outputs": [
                {
                    "output_type": "display_data",
                    "data": {
                        "text/html": "(1 row affected)"
                    },
                    "metadata": {}
                },
                {
                    "output_type": "display_data",
                    "data": {
                        "text/html": "Total execution time: 00:00:00.137"
                    },
                    "metadata": {}
                },
                {
                    "output_type": "execute_result",
                    "execution_count": 2,
                    "data": {
                        "application/vnd.dataresource+json": {
                            "schema": {
                                "fields": [
                                    {
                                        "name": "ProductCategoryID"
                                    },
                                    {
                                        "name": "NAME"
                                    }
                                ]
                            },
                            "data": [
                                {
                                    "ProductCategoryID": "1",
                                    "NAME": "Bikes"
                                }
                            ]
                        },
                        "text/html": "<table><tr><th>ProductCategoryID</th><th>NAME</th></tr><tr><td>1</td><td>Bikes</td></tr></table>"
                    },
                    "metadata": {}
                }
            ],
            "execution_count": 2
        },
        {
            "cell_type": "markdown",
            "source": [
                "Here I selected two different collumns, _**ProductCategoryID**_ and Name, from the **_Production.ProductCategory_** table. Since this **SELECT** statement has a WHERE clause, it limits the rows returned from the table to only those rows that have a _ProductCategoryID_ value less tha 2."
            ],
            "metadata": {
                "language": "sql",
                "azdata_cell_guid": "19c61815-fde9-4b0b-a0c9-553edef3152c"
            },
            "attachments": {}
        },
        {
            "cell_type": "markdown",
            "source": [
                "### **The Column List**\n",
                "\n",
                "The colummn list follows the SELECT keyword and is where you specify the columns you want to return from your table. The columns are identified by specifying the column name. If multiple columns are listed, they are separeted by commas. In later chapters, we'll look at the possibilities for returning values other than columns from the specified table. In this chapter, we're sticking to the basics. Building on the example above, let's explore what a column list might look like if it only selects a single column or all of the columns of a table."
            ],
            "metadata": {
                "language": "sql",
                "azdata_cell_guid": "b45c7e1e-9c6d-4312-a1e4-5020e11e5912"
            },
            "attachments": {}
        },
        {
            "cell_type": "markdown",
            "source": [
                "If I only wanted to return the **_Name_** column of the **_Production.ProductCategory_** table my query would look like with this:"
            ],
            "metadata": {
                "language": "sql",
                "azdata_cell_guid": "900da1c7-60b8-44a1-83c4-b9c088021dd0"
            },
            "attachments": {}
        },
        {
            "cell_type": "code",
            "source": [
                "SELECT  Name\n",
                "FROM    Production.ProductCategory\n",
                "WHERE   ProductCategoryID < 2;"
            ],
            "metadata": {
                "language": "sql",
                "azdata_cell_guid": "4a4bde16-c196-4f5a-ba69-b903386dbf0a"
            },
            "outputs": [
                {
                    "output_type": "display_data",
                    "data": {
                        "text/html": "(1 row affected)"
                    },
                    "metadata": {}
                },
                {
                    "output_type": "display_data",
                    "data": {
                        "text/html": "Total execution time: 00:00:00.098"
                    },
                    "metadata": {}
                },
                {
                    "output_type": "execute_result",
                    "metadata": {},
                    "execution_count": 1,
                    "data": {
                        "application/vnd.dataresource+json": {
                            "schema": {
                                "fields": [
                                    {
                                        "name": "Name"
                                    }
                                ]
                            },
                            "data": [
                                {
                                    "Name": "Bikes"
                                }
                            ]
                        },
                        "text/html": [
                            "<table>",
                            "<tr><th>Name</th></tr>",
                            "<tr><td>Bikes</td></tr>",
                            "</table>"
                        ]
                    }
                }
            ],
            "execution_count": 1
        },
        {
            "cell_type": "markdown",
            "source": [
                "Here you can see I only specified only the Name column between the SELECT and FROM keywords in the above query. But if I wanted to specify all of the columns in the Production.ProductCategory table, I would run the following query:"
            ],
            "metadata": {
                "language": "sql",
                "azdata_cell_guid": "8ce8fa8c-2cda-4126-8407-349e4cadb4a9"
            },
            "attachments": {}
        },
        {
            "cell_type": "code",
            "source": [
                "SELECT  ProductCategoryID ,\n",
                "        Name ,\n",
                "        rowguid ,\n",
                "        ModifiedDate\n",
                "FROM    Production.ProductCategory\n",
                "WHERE   ProductCategoryID < 2 ;"
            ],
            "metadata": {
                "language": "sql",
                "azdata_cell_guid": "9b480476-bfda-46cd-a002-ee4ce983a082"
            },
            "outputs": [
                {
                    "output_type": "display_data",
                    "data": {
                        "text/html": "(1 row affected)"
                    },
                    "metadata": {}
                },
                {
                    "output_type": "display_data",
                    "data": {
                        "text/html": "Total execution time: 00:00:00.024"
                    },
                    "metadata": {}
                },
                {
                    "output_type": "execute_result",
                    "metadata": {},
                    "execution_count": 2,
                    "data": {
                        "application/vnd.dataresource+json": {
                            "schema": {
                                "fields": [
                                    {
                                        "name": "ProductCategoryID"
                                    },
                                    {
                                        "name": "Name"
                                    },
                                    {
                                        "name": "rowguid"
                                    },
                                    {
                                        "name": "ModifiedDate"
                                    }
                                ]
                            },
                            "data": [
                                {
                                    "ProductCategoryID": "1",
                                    "Name": "Bikes",
                                    "rowguid": "cfbda25c-df71-47a7-b81b-64ee161aa37c",
                                    "ModifiedDate": "2008-04-30 00:00:00.000"
                                }
                            ]
                        },
                        "text/html": [
                            "<table>",
                            "<tr><th>ProductCategoryID</th><th>Name</th><th>rowguid</th><th>ModifiedDate</th></tr>",
                            "<tr><td>1</td><td>Bikes</td><td>cfbda25c-df71-47a7-b81b-64ee161aa37c</td><td>2008-04-30 00:00:00.000</td></tr>",
                            "</table>"
                        ]
                    }
                }
            ],
            "execution_count": 2
        }
    ]
}