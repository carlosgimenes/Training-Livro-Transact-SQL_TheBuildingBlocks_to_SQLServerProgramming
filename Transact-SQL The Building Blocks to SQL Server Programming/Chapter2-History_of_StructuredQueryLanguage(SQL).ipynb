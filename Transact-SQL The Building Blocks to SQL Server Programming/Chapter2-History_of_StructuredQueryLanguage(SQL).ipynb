{
    "metadata": {
        "kernelspec": {
            "name": "SQL",
            "display_name": "SQL",
            "language": "sql"
        },
        "language_info": {
            "name": "sql",
            "version": ""
        }
    },
    "nbformat_minor": 2,
    "nbformat": 4,
    "cells": [
        {
            "cell_type": "markdown",
            "source": [
                "## **Chapter 2 - History of Structured Query Language (SQL)**"
            ],
            "metadata": {
                "azdata_cell_guid": "7d05115e-5f9e-4a21-a110-87df74a10a3c"
            },
            "attachments": {}
        },
        {
            "cell_type": "markdown",
            "source": [
                "In Chapter 1, I gave you some information about how to write a basic **SELECT** statement. Now let's step back in time and discuss the history of _Structured Query Language_, or what mos SQL Server professionals just shorten to SQL and pronounce like the second part of a bad movie and say **_sequel_**. Fasten your seatbelts while I crank up the time machine and travel back in time to follow the history of SQL and Microsoft SQL Server from its early years to where they are today."
            ],
            "metadata": {
                "azdata_cell_guid": "2a51eeb2-a858-410f-95f9-b09b28dd3ed0"
            },
            "attachments": {}
        },
        {
            "cell_type": "markdown",
            "source": [
                "### **The 1970s**"
            ],
            "metadata": {
                "azdata_cell_guid": "70a63413-f6d0-4e94-ad8a-5b6214c60837"
            },
            "attachments": {}
        }
    ]
}