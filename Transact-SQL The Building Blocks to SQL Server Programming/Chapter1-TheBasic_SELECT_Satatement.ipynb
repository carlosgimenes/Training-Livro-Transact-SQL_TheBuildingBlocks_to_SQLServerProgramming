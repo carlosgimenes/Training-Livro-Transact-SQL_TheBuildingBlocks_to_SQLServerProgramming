{
    "metadata": {
        "kernelspec": {
            "name": "SQL",
            "display_name": "SQL",
            "language": "sql"
        },
        "language_info": {
            "name": "sql",
            "version": ""
        }
    },
    "nbformat_minor": 2,
    "nbformat": 4,
    "cells": [
        {
            "cell_type": "markdown",
            "source": [
                "## **Chapter 1 - The Basic SELECT Statement**"
            ],
            "metadata": {
                "azdata_cell_guid": "dbfe7ebf-5318-4713-a779-f72f742d08f9"
            },
            "attachments": {}
        },
        {
            "cell_type": "markdown",
            "source": [
                "### **The Three Parts in a SELECT Statement**\n",
                "\n",
                "A basic **SELECT** statement that returns data from a single table consists of three different parts: The Column list, the **FROM** clause, and the **WHERE** Clause. The syntax for constructing a basic SELECT statement using these different components looks like:"
            ],
            "metadata": {
                "azdata_cell_guid": "1239dbbf-116b-4bea-b04d-7fb7f3dab08f"
            },
            "attachments": {}
        },
        {
            "cell_type": "code",
            "source": [
                "SELECT <Column List>\n",
                "FROM <table name>\n",
                "WHERE <where criteria>"
            ],
            "metadata": {
                "azdata_cell_guid": "ca2192d8-15cc-418e-b4de-06b15f1c677b",
                "language": "sql"
            },
            "outputs": [],
            "execution_count": null
        },
        {
            "cell_type": "markdown",
            "source": [
                "The _**\\<Column List\\>**_ will contain a list of columns that you want to returned from the query, _**\\<table\\_name\\>**_ will contain the table from which the data is selected, and the **_\\<where criteria\\>_** will identify the search criteria that will be used to constrain the rows that will be returned from the SELECT statement. Note that the WHERE clause is optional."
            ],
            "metadata": {
                "language": "sql",
                "azdata_cell_guid": "48448a5d-9c41-4898-b2ee-7399c4b311bf"
            },
            "attachments": {}
        },
        {
            "cell_type": "code",
            "source": [
                "SELECT  ProductCategoryID,\n",
                "        NAME\n",
                "FROM    AdventureWorks2017.Production.ProductCategory\n",
                "WHERE   ProductCategoryID < 2 ;"
            ],
            "metadata": {
                "language": "sql",
                "azdata_cell_guid": "bf343bb6-7bfe-4737-aae3-695ca11ba69d"
            },
            "outputs": [
                {
                    "output_type": "display_data",
                    "data": {
                        "text/html": "(1 row affected)"
                    },
                    "metadata": {}
                },
                {
                    "output_type": "display_data",
                    "data": {
                        "text/html": "Total execution time: 00:00:00.094"
                    },
                    "metadata": {}
                },
                {
                    "output_type": "execute_result",
                    "execution_count": 3,
                    "data": {
                        "application/vnd.dataresource+json": {
                            "schema": {
                                "fields": [
                                    {
                                        "name": "ProductCategoryID"
                                    },
                                    {
                                        "name": "NAME"
                                    }
                                ]
                            },
                            "data": [
                                {
                                    "ProductCategoryID": "1",
                                    "NAME": "Bikes"
                                }
                            ]
                        },
                        "text/html": "<table><tr><th>ProductCategoryID</th><th>NAME</th></tr><tr><td>1</td><td>Bikes</td></tr></table>"
                    },
                    "metadata": {}
                }
            ],
            "execution_count": 3
        },
        {
            "cell_type": "markdown",
            "source": [
                "Here I selected two different collumns, _**ProductCategoryID**_ and Name, from the **_Production.ProductCategory_** table. Since this **SELECT** statement has a WHERE clause, it limits the rows returned from the table to only those rows that have a _ProductCategoryID_ value less tha 2."
            ],
            "metadata": {
                "language": "sql",
                "azdata_cell_guid": "19c61815-fde9-4b0b-a0c9-553edef3152c"
            },
            "attachments": {}
        },
        {
            "cell_type": "markdown",
            "source": [
                "### **The Column List**\n",
                "\n",
                "The colummn list follows the SELECT keyword and is where you specify the columns you want to return from your table. The columns are identified by specifying the column name. If multiple columns are listed, they are separeted by commas. In later chapters, we'll look at the possibilities for returning values other than columns from the specified table. In this chapter, we're sticking to the basics. Building on the example above, let's explore what a column list might look like if it only selects a single column or all of the columns of a table."
            ],
            "metadata": {
                "language": "sql",
                "azdata_cell_guid": "b45c7e1e-9c6d-4312-a1e4-5020e11e5912"
            },
            "attachments": {}
        },
        {
            "cell_type": "markdown",
            "source": [
                "If I only wanted to return the **_Name_** column of the **_Production.ProductCategory_** table my query would look like with this:"
            ],
            "metadata": {
                "language": "sql",
                "azdata_cell_guid": "900da1c7-60b8-44a1-83c4-b9c088021dd0"
            },
            "attachments": {}
        },
        {
            "cell_type": "code",
            "source": [
                "SELECT  Name\n",
                "FROM    AdventureWorks2017.Production.ProductCategory\n",
                "WHERE   ProductCategoryID < 2;"
            ],
            "metadata": {
                "language": "sql",
                "azdata_cell_guid": "4a4bde16-c196-4f5a-ba69-b903386dbf0a"
            },
            "outputs": [
                {
                    "output_type": "display_data",
                    "data": {
                        "text/html": "(1 row affected)"
                    },
                    "metadata": {}
                },
                {
                    "output_type": "display_data",
                    "data": {
                        "text/html": "Total execution time: 00:00:00.006"
                    },
                    "metadata": {}
                },
                {
                    "output_type": "execute_result",
                    "execution_count": 4,
                    "data": {
                        "application/vnd.dataresource+json": {
                            "schema": {
                                "fields": [
                                    {
                                        "name": "Name"
                                    }
                                ]
                            },
                            "data": [
                                {
                                    "Name": "Bikes"
                                }
                            ]
                        },
                        "text/html": "<table><tr><th>Name</th></tr><tr><td>Bikes</td></tr></table>"
                    },
                    "metadata": {}
                }
            ],
            "execution_count": 4
        },
        {
            "cell_type": "markdown",
            "source": [
                "Here you can see I only specified only the Name column between the SELECT and FROM keywords in the above query. But if I wanted to specify all of the columns in the Production.ProductCategory table, I would run the following query:"
            ],
            "metadata": {
                "language": "sql",
                "azdata_cell_guid": "8ce8fa8c-2cda-4126-8407-349e4cadb4a9"
            },
            "attachments": {}
        },
        {
            "cell_type": "code",
            "source": [
                "SELECT  ProductCategoryID ,\n",
                "        Name ,\n",
                "        rowguid ,\n",
                "        ModifiedDate\n",
                "FROM    AdventureWorks2017.Production.ProductCategory\n",
                "WHERE   ProductCategoryID < 2 ;"
            ],
            "metadata": {
                "language": "sql",
                "azdata_cell_guid": "9b480476-bfda-46cd-a002-ee4ce983a082"
            },
            "outputs": [
                {
                    "output_type": "display_data",
                    "data": {
                        "text/html": "(1 row affected)"
                    },
                    "metadata": {}
                },
                {
                    "output_type": "display_data",
                    "data": {
                        "text/html": "Total execution time: 00:00:00.008"
                    },
                    "metadata": {}
                },
                {
                    "output_type": "execute_result",
                    "execution_count": 5,
                    "data": {
                        "application/vnd.dataresource+json": {
                            "schema": {
                                "fields": [
                                    {
                                        "name": "ProductCategoryID"
                                    },
                                    {
                                        "name": "Name"
                                    },
                                    {
                                        "name": "rowguid"
                                    },
                                    {
                                        "name": "ModifiedDate"
                                    }
                                ]
                            },
                            "data": [
                                {
                                    "ProductCategoryID": "1",
                                    "Name": "Bikes",
                                    "rowguid": "cfbda25c-df71-47a7-b81b-64ee161aa37c",
                                    "ModifiedDate": "2008-04-30 00:00:00.000"
                                }
                            ]
                        },
                        "text/html": "<table><tr><th>ProductCategoryID</th><th>Name</th><th>rowguid</th><th>ModifiedDate</th></tr><tr><td>1</td><td>Bikes</td><td>cfbda25c-df71-47a7-b81b-64ee161aa37c</td><td>2008-04-30 00:00:00.000</td></tr></table>"
                    },
                    "metadata": {}
                }
            ],
            "execution_count": 5
        },
        {
            "cell_type": "markdown",
            "source": [
                "Another way to **_include all the columns_** is to specify an asterisk instead of the individual column names:"
            ],
            "metadata": {
                "language": "sql",
                "azdata_cell_guid": "000f4b35-ddc6-47cf-9025-e9a6b44a902f"
            },
            "attachments": {}
        },
        {
            "cell_type": "code",
            "source": [
                "SELECT  *\n",
                "FROM    AdventureWorks2017.Production.ProductCategory\n",
                "WHERE   ProductCategoryID < 2 ;"
            ],
            "metadata": {
                "language": "sql",
                "azdata_cell_guid": "b6ba6955-327b-4093-8413-9ae9b499c51d"
            },
            "outputs": [
                {
                    "output_type": "display_data",
                    "data": {
                        "text/html": "(1 row affected)"
                    },
                    "metadata": {}
                },
                {
                    "output_type": "display_data",
                    "data": {
                        "text/html": "Total execution time: 00:00:00.005"
                    },
                    "metadata": {}
                },
                {
                    "output_type": "execute_result",
                    "execution_count": 6,
                    "data": {
                        "application/vnd.dataresource+json": {
                            "schema": {
                                "fields": [
                                    {
                                        "name": "ProductCategoryID"
                                    },
                                    {
                                        "name": "Name"
                                    },
                                    {
                                        "name": "rowguid"
                                    },
                                    {
                                        "name": "ModifiedDate"
                                    }
                                ]
                            },
                            "data": [
                                {
                                    "ProductCategoryID": "1",
                                    "Name": "Bikes",
                                    "rowguid": "cfbda25c-df71-47a7-b81b-64ee161aa37c",
                                    "ModifiedDate": "2008-04-30 00:00:00.000"
                                }
                            ]
                        },
                        "text/html": "<table><tr><th>ProductCategoryID</th><th>Name</th><th>rowguid</th><th>ModifiedDate</th></tr><tr><td>1</td><td>Bikes</td><td>cfbda25c-df71-47a7-b81b-64ee161aa37c</td><td>2008-04-30 00:00:00.000</td></tr></table>"
                    },
                    "metadata": {}
                }
            ],
            "execution_count": 6
        },
        {
            "cell_type": "markdown",
            "source": [
                "Care needs to be taken when using the asterisk (usually referred to as \"star\") in your applications. Since the asterisk will return all columns in a table, if you happen to alter a table to include an additional column, then the additional column will be returned without modifying the actual SELECT statement. Whereas if you have specified all the columns by name, then when a new column is added, it will not be returned unless you add it to the column list. Using the asterisk is acceptable for testing, but if you want to follow best practices, do not use it in your application code. The reason this is a best practice is that most applications expect a fixed number of columns to be returned from given SELECT statement. When columns have been added to table, and you have used the asterisk method to identify table columns, the additional columns returned can break applications that have not been coded to handle this extra data."
            ],
            "metadata": {
                "language": "sql",
                "azdata_cell_guid": "03d66a65-2361-40cc-9267-caeb14a04284"
            },
            "attachments": {}
        },
        {
            "cell_type": "markdown",
            "source": [
                "## **The FROM Clause**\n",
                "\n",
                "In the FROM clause, you identify the table from which you want to select data. \n",
                "\n",
                "There are several different ways to identify the table in which you wanto to select data. In fact, there are four different ways, three of which I will cover in this article and the fourth I will just mention.\n",
                "\n",
                "The first way is to specify a table by identifying both the table name and the schema in which it belongs. This is how I have identified all my table names in all my examples so far. In each of my examples, I said the table name was **_Production.ProductCategory_**. The actual table name is just **_ProductCategory_**, and it is contained in the **_Production_** schema.\n",
                "\n",
                "The second way to identify a table in the FROM clause is just state the table name. When the FROM clause only contains the table name, SQL Server will assume the table is contained under the default schema for the database user, or under the dbo schema.\n",
                "\n",
                "When you submit a query to SQL Server that only identifies the table name, SQL Server will need to resolve which schema this table is under. This is because, in a given database, there can be multiple tables with the same name, as long as they are in different schemas. To determine which schema a table resides in SQL Server goes through a two-step process. The first step is to use the default schema for the database user who submitted the query and prepend their default shcema the table name and then look for that table. If SQL Server finds the table using the user default schema, **then step two is not performed**. If SQL Server did not find the table using the user's default schema, the SQL Server checks in the **_dbo_** schema to find the table. Regardless of whether your database contains a single schema or not, **it is best practice to get in the habit of identifying your tables in the FROM clause by using the schema name followed by the table name**. By doing this, you reduce the amount of work SQL Server has to do to resolve the table name and promote plan cache re-usage.\n",
                "\n",
                "The third way to identify a table is to use a three-part-name, where the last two parts are schema and table name, and the first part is the database name. Here is a SELECT statement similar to my previous SELECT statement that uses a three-part name:"
            ],
            "metadata": {
                "language": "sql",
                "azdata_cell_guid": "5f022fe5-e7ee-4b34-8473-a809b135bb2f"
            },
            "attachments": {}
        },
        {
            "cell_type": "code",
            "source": [
                "SELECT  *\n",
                "FROM    AdventureWorks2017.Production.ProductCategory\n",
                "WHERE   ProductCategoryID < 2 ;"
            ],
            "metadata": {
                "language": "sql",
                "azdata_cell_guid": "a4fd76cb-2f12-4eb4-9698-b037eba380fb"
            },
            "outputs": [
                {
                    "output_type": "display_data",
                    "data": {
                        "text/html": "(1 row affected)"
                    },
                    "metadata": {}
                },
                {
                    "output_type": "display_data",
                    "data": {
                        "text/html": "Total execution time: 00:00:00.004"
                    },
                    "metadata": {}
                },
                {
                    "output_type": "execute_result",
                    "execution_count": 7,
                    "data": {
                        "application/vnd.dataresource+json": {
                            "schema": {
                                "fields": [
                                    {
                                        "name": "ProductCategoryID"
                                    },
                                    {
                                        "name": "Name"
                                    },
                                    {
                                        "name": "rowguid"
                                    },
                                    {
                                        "name": "ModifiedDate"
                                    }
                                ]
                            },
                            "data": [
                                {
                                    "ProductCategoryID": "1",
                                    "Name": "Bikes",
                                    "rowguid": "cfbda25c-df71-47a7-b81b-64ee161aa37c",
                                    "ModifiedDate": "2008-04-30 00:00:00.000"
                                }
                            ]
                        },
                        "text/html": "<table><tr><th>ProductCategoryID</th><th>Name</th><th>rowguid</th><th>ModifiedDate</th></tr><tr><td>1</td><td>Bikes</td><td>cfbda25c-df71-47a7-b81b-64ee161aa37c</td><td>2008-04-30 00:00:00.000</td></tr></table>"
                    },
                    "metadata": {}
                }
            ],
            "execution_count": 7
        },
        {
            "cell_type": "markdown",
            "source": [
                "Here you can see that I prepend the database name **_AdventureWorks2017_** to the **_Production.ProductCategory_** table identified in the FROM clause.\n",
                "\n",
                "By using a three-part naming convention for tables in the FROM clause, the database context of your query window in SQL Server Management Studio could be set to any database, and the database engine will still know which database, schema and table to use for the query. When building applications that need to retrieve data from multiple databases within an instance, using a three-part name helps facilitate retrieving data form multiple databases in a single application.\n",
                "\n",
                "The last method is a using a four-part name, with the fourth part (preceding the database name) identifies the name of a linked server. Since linked servers are outside the scope of this Stairway, If you shoud run across a table name that contais 4 parts, you will know the table is associated with a linkded server."
            ],
            "metadata": {
                "language": "sql",
                "azdata_cell_guid": "e8ae7fb9-c758-4d1a-bf49-e1d8ae38b920"
            },
            "attachments": {}
        },
        {
            "cell_type": "markdown",
            "source": [
                "## **The WHERE Clause**\n",
                "\n",
                "The WHERE clause of a SELECT statement is optional. The WHERE clause is used to constrain the rows that are returned from a SELECT statement. The database engine evaluates each row aginst the WHERE clause and then only returns rows if they meet the search condition or conditions identified in the WHERE clause. As you write more SELECT statements, you will find most of your SELECT statements will likely contain a WHERE clause.\n",
                "\n",
                "A simple WHERE clause will contain a single search condition, whereas a more complex WHERE clauses might contain many conditions. When multiple conditions are used in a WHERE clause, they will be combined logically by using AND and OR logical operators. There is no limit to the number of different conditions that might be include in a SELECT statement. In my examples so far, I've only used a single condition. Let's review a couple of examples that have more complex WHERE clauses."
            ],
            "metadata": {
                "language": "sql",
                "azdata_cell_guid": "0f413e3a-8d5f-4a41-8a27-b2b3652c8d9c"
            },
            "attachments": {}
        },
        {
            "cell_type": "markdown",
            "source": [
                "- **Two search conditions**"
            ],
            "metadata": {
                "language": "sql",
                "azdata_cell_guid": "5abe0fb9-9258-4f10-9f68-349a75ec1ecd"
            },
            "attachments": {}
        },
        {
            "cell_type": "code",
            "source": [
                "SELECT  *\n",
                "FROM    AdventureWorks2017.Production.Product\n",
                "WHERE   Color = 'Blue'\n",
                "        AND ProductID > 900 ;"
            ],
            "metadata": {
                "language": "sql",
                "azdata_cell_guid": "db04d405-2c06-4690-aec6-61e5fbe22629"
            },
            "outputs": [
                {
                    "output_type": "display_data",
                    "data": {
                        "text/html": "(14 rows affected)"
                    },
                    "metadata": {}
                },
                {
                    "output_type": "display_data",
                    "data": {
                        "text/html": "Total execution time: 00:00:00.349"
                    },
                    "metadata": {}
                },
                {
                    "output_type": "execute_result",
                    "execution_count": 1,
                    "data": {
                        "application/vnd.dataresource+json": {
                            "schema": {
                                "fields": [
                                    {
                                        "name": "ProductID"
                                    },
                                    {
                                        "name": "Name"
                                    },
                                    {
                                        "name": "ProductNumber"
                                    },
                                    {
                                        "name": "MakeFlag"
                                    },
                                    {
                                        "name": "FinishedGoodsFlag"
                                    },
                                    {
                                        "name": "Color"
                                    },
                                    {
                                        "name": "SafetyStockLevel"
                                    },
                                    {
                                        "name": "ReorderPoint"
                                    },
                                    {
                                        "name": "StandardCost"
                                    },
                                    {
                                        "name": "ListPrice"
                                    },
                                    {
                                        "name": "Size"
                                    },
                                    {
                                        "name": "SizeUnitMeasureCode"
                                    },
                                    {
                                        "name": "WeightUnitMeasureCode"
                                    },
                                    {
                                        "name": "Weight"
                                    },
                                    {
                                        "name": "DaysToManufacture"
                                    },
                                    {
                                        "name": "ProductLine"
                                    },
                                    {
                                        "name": "Class"
                                    },
                                    {
                                        "name": "Style"
                                    },
                                    {
                                        "name": "ProductSubcategoryID"
                                    },
                                    {
                                        "name": "ProductModelID"
                                    },
                                    {
                                        "name": "SellStartDate"
                                    },
                                    {
                                        "name": "SellEndDate"
                                    },
                                    {
                                        "name": "DiscontinuedDate"
                                    },
                                    {
                                        "name": "rowguid"
                                    },
                                    {
                                        "name": "ModifiedDate"
                                    }
                                ]
                            },
                            "data": [
                                {
                                    "ProductID": "903",
                                    "Name": "LL Touring Frame - Blue, 44",
                                    "ProductNumber": "FR-T67U-44",
                                    "MakeFlag": "1",
                                    "FinishedGoodsFlag": "1",
                                    "Color": "Blue",
                                    "SafetyStockLevel": "500",
                                    "ReorderPoint": "375",
                                    "StandardCost": "199,8519",
                                    "ListPrice": "333,42",
                                    "Size": "44",
                                    "SizeUnitMeasureCode": "CM ",
                                    "WeightUnitMeasureCode": "LB ",
                                    "Weight": "3.02",
                                    "DaysToManufacture": "1",
                                    "ProductLine": "T ",
                                    "Class": "L ",
                                    "Style": "U ",
                                    "ProductSubcategoryID": "16",
                                    "ProductModelID": "10",
                                    "SellStartDate": "2013-05-30 00:00:00.000",
                                    "SellEndDate": "NULL",
                                    "DiscontinuedDate": "NULL",
                                    "rowguid": "e9c17be7-f4dc-465e-ab73-c0198f37bfdd",
                                    "ModifiedDate": "2014-02-08 10:01:36.827"
                                },
                                {
                                    "ProductID": "953",
                                    "Name": "Touring-2000 Blue, 60",
                                    "ProductNumber": "BK-T44U-60",
                                    "MakeFlag": "1",
                                    "FinishedGoodsFlag": "1",
                                    "Color": "Blue",
                                    "SafetyStockLevel": "100",
                                    "ReorderPoint": "75",
                                    "StandardCost": "755,1508",
                                    "ListPrice": "1214,85",
                                    "Size": "60",
                                    "SizeUnitMeasureCode": "CM ",
                                    "WeightUnitMeasureCode": "LB ",
                                    "Weight": "27.90",
                                    "DaysToManufacture": "4",
                                    "ProductLine": "T ",
                                    "Class": "M ",
                                    "Style": "U ",
                                    "ProductSubcategoryID": "3",
                                    "ProductModelID": "35",
                                    "SellStartDate": "2013-05-30 00:00:00.000",
                                    "SellEndDate": "NULL",
                                    "DiscontinuedDate": "NULL",
                                    "rowguid": "f1bb3957-8d27-47f3-91ec-c71822d11436",
                                    "ModifiedDate": "2014-02-08 10:01:36.827"
                                },
                                {
                                    "ProductID": "958",
                                    "Name": "Touring-3000 Blue, 54",
                                    "ProductNumber": "BK-T18U-54",
                                    "MakeFlag": "1",
                                    "FinishedGoodsFlag": "1",
                                    "Color": "Blue",
                                    "SafetyStockLevel": "100",
                                    "ReorderPoint": "75",
                                    "StandardCost": "461,4448",
                                    "ListPrice": "742,35",
                                    "Size": "54",
                                    "SizeUnitMeasureCode": "CM ",
                                    "WeightUnitMeasureCode": "LB ",
                                    "Weight": "29.68",
                                    "DaysToManufacture": "4",
                                    "ProductLine": "T ",
                                    "Class": "L ",
                                    "Style": "U ",
                                    "ProductSubcategoryID": "3",
                                    "ProductModelID": "36",
                                    "SellStartDate": "2013-05-30 00:00:00.000",
                                    "SellEndDate": "NULL",
                                    "DiscontinuedDate": "NULL",
                                    "rowguid": "a3ee6897-52fe-42e4-92ec-7a91e7bb905a",
                                    "ModifiedDate": "2014-02-08 10:01:36.827"
                                },
                                {
                                    "ProductID": "959",
                                    "Name": "Touring-3000 Blue, 58",
                                    "ProductNumber": "BK-T18U-58",
                                    "MakeFlag": "1",
                                    "FinishedGoodsFlag": "1",
                                    "Color": "Blue",
                                    "SafetyStockLevel": "100",
                                    "ReorderPoint": "75",
                                    "StandardCost": "461,4448",
                                    "ListPrice": "742,35",
                                    "Size": "58",
                                    "SizeUnitMeasureCode": "CM ",
                                    "WeightUnitMeasureCode": "LB ",
                                    "Weight": "29.90",
                                    "DaysToManufacture": "4",
                                    "ProductLine": "T ",
                                    "Class": "L ",
                                    "Style": "U ",
                                    "ProductSubcategoryID": "3",
                                    "ProductModelID": "36",
                                    "SellStartDate": "2013-05-30 00:00:00.000",
                                    "SellEndDate": "NULL",
                                    "DiscontinuedDate": "NULL",
                                    "rowguid": "23d89cee-9f44-4f3e-b289-63de6ba2b737",
                                    "ModifiedDate": "2014-02-08 10:01:36.827"
                                },
                                {
                                    "ProductID": "960",
                                    "Name": "Touring-3000 Blue, 62",
                                    "ProductNumber": "BK-T18U-62",
                                    "MakeFlag": "1",
                                    "FinishedGoodsFlag": "1",
                                    "Color": "Blue",
                                    "SafetyStockLevel": "100",
                                    "ReorderPoint": "75",
                                    "StandardCost": "461,4448",
                                    "ListPrice": "742,35",
                                    "Size": "62",
                                    "SizeUnitMeasureCode": "CM ",
                                    "WeightUnitMeasureCode": "LB ",
                                    "Weight": "30.00",
                                    "DaysToManufacture": "4",
                                    "ProductLine": "T ",
                                    "Class": "L ",
                                    "Style": "U ",
                                    "ProductSubcategoryID": "3",
                                    "ProductModelID": "36",
                                    "SellStartDate": "2013-05-30 00:00:00.000",
                                    "SellEndDate": "NULL",
                                    "DiscontinuedDate": "NULL",
                                    "rowguid": "060192c9-bcd9-4260-b729-d6bcfadfb08e",
                                    "ModifiedDate": "2014-02-08 10:01:36.827"
                                },
                                {
                                    "ProductID": "966",
                                    "Name": "Touring-1000 Blue, 46",
                                    "ProductNumber": "BK-T79U-46",
                                    "MakeFlag": "1",
                                    "FinishedGoodsFlag": "1",
                                    "Color": "Blue",
                                    "SafetyStockLevel": "100",
                                    "ReorderPoint": "75",
                                    "StandardCost": "1481,9379",
                                    "ListPrice": "2384,07",
                                    "Size": "46",
                                    "SizeUnitMeasureCode": "CM ",
                                    "WeightUnitMeasureCode": "LB ",
                                    "Weight": "25.13",
                                    "DaysToManufacture": "4",
                                    "ProductLine": "T ",
                                    "Class": "H ",
                                    "Style": "U ",
                                    "ProductSubcategoryID": "3",
                                    "ProductModelID": "34",
                                    "SellStartDate": "2013-05-30 00:00:00.000",
                                    "SellEndDate": "NULL",
                                    "DiscontinuedDate": "NULL",
                                    "rowguid": "86990d54-6efb-4c53-9974-6c3b0297e222",
                                    "ModifiedDate": "2014-02-08 10:01:36.827"
                                },
                                {
                                    "ProductID": "967",
                                    "Name": "Touring-1000 Blue, 50",
                                    "ProductNumber": "BK-T79U-50",
                                    "MakeFlag": "1",
                                    "FinishedGoodsFlag": "1",
                                    "Color": "Blue",
                                    "SafetyStockLevel": "100",
                                    "ReorderPoint": "75",
                                    "StandardCost": "1481,9379",
                                    "ListPrice": "2384,07",
                                    "Size": "50",
                                    "SizeUnitMeasureCode": "CM ",
                                    "WeightUnitMeasureCode": "LB ",
                                    "Weight": "25.42",
                                    "DaysToManufacture": "4",
                                    "ProductLine": "T ",
                                    "Class": "H ",
                                    "Style": "U ",
                                    "ProductSubcategoryID": "3",
                                    "ProductModelID": "34",
                                    "SellStartDate": "2013-05-30 00:00:00.000",
                                    "SellEndDate": "NULL",
                                    "DiscontinuedDate": "NULL",
                                    "rowguid": "68c0a818-2985-46eb-8255-0fb70919fa24",
                                    "ModifiedDate": "2014-02-08 10:01:36.827"
                                },
                                {
                                    "ProductID": "968",
                                    "Name": "Touring-1000 Blue, 54",
                                    "ProductNumber": "BK-T79U-54",
                                    "MakeFlag": "1",
                                    "FinishedGoodsFlag": "1",
                                    "Color": "Blue",
                                    "SafetyStockLevel": "100",
                                    "ReorderPoint": "75",
                                    "StandardCost": "1481,9379",
                                    "ListPrice": "2384,07",
                                    "Size": "54",
                                    "SizeUnitMeasureCode": "CM ",
                                    "WeightUnitMeasureCode": "LB ",
                                    "Weight": "25.68",
                                    "DaysToManufacture": "4",
                                    "ProductLine": "T ",
                                    "Class": "H ",
                                    "Style": "U ",
                                    "ProductSubcategoryID": "3",
                                    "ProductModelID": "34",
                                    "SellStartDate": "2013-05-30 00:00:00.000",
                                    "SellEndDate": "NULL",
                                    "DiscontinuedDate": "NULL",
                                    "rowguid": "12280a8c-7578-4367-ba71-214bcc1e4792",
                                    "ModifiedDate": "2014-02-08 10:01:36.827"
                                },
                                {
                                    "ProductID": "969",
                                    "Name": "Touring-1000 Blue, 60",
                                    "ProductNumber": "BK-T79U-60",
                                    "MakeFlag": "1",
                                    "FinishedGoodsFlag": "1",
                                    "Color": "Blue",
                                    "SafetyStockLevel": "100",
                                    "ReorderPoint": "75",
                                    "StandardCost": "1481,9379",
                                    "ListPrice": "2384,07",
                                    "Size": "60",
                                    "SizeUnitMeasureCode": "CM ",
                                    "WeightUnitMeasureCode": "LB ",
                                    "Weight": "25.90",
                                    "DaysToManufacture": "4",
                                    "ProductLine": "T ",
                                    "Class": "H ",
                                    "Style": "U ",
                                    "ProductSubcategoryID": "3",
                                    "ProductModelID": "34",
                                    "SellStartDate": "2013-05-30 00:00:00.000",
                                    "SellEndDate": "NULL",
                                    "DiscontinuedDate": "NULL",
                                    "rowguid": "dd70cf36-449a-43fd-839d-a84ee14c849a",
                                    "ModifiedDate": "2014-02-08 10:01:36.827"
                                },
                                {
                                    "ProductID": "970",
                                    "Name": "Touring-2000 Blue, 46",
                                    "ProductNumber": "BK-T44U-46",
                                    "MakeFlag": "1",
                                    "FinishedGoodsFlag": "1",
                                    "Color": "Blue",
                                    "SafetyStockLevel": "100",
                                    "ReorderPoint": "75",
                                    "StandardCost": "755,1508",
                                    "ListPrice": "1214,85",
                                    "Size": "46",
                                    "SizeUnitMeasureCode": "CM ",
                                    "WeightUnitMeasureCode": "LB ",
                                    "Weight": "27.13",
                                    "DaysToManufacture": "4",
                                    "ProductLine": "T ",
                                    "Class": "M ",
                                    "Style": "U ",
                                    "ProductSubcategoryID": "3",
                                    "ProductModelID": "35",
                                    "SellStartDate": "2013-05-30 00:00:00.000",
                                    "SellEndDate": "NULL",
                                    "DiscontinuedDate": "NULL",
                                    "rowguid": "c0009006-715f-4b76-a05a-1a0d3adfb49a",
                                    "ModifiedDate": "2014-02-08 10:01:36.827"
                                },
                                {
                                    "ProductID": "971",
                                    "Name": "Touring-2000 Blue, 50",
                                    "ProductNumber": "BK-T44U-50",
                                    "MakeFlag": "1",
                                    "FinishedGoodsFlag": "1",
                                    "Color": "Blue",
                                    "SafetyStockLevel": "100",
                                    "ReorderPoint": "75",
                                    "StandardCost": "755,1508",
                                    "ListPrice": "1214,85",
                                    "Size": "50",
                                    "SizeUnitMeasureCode": "CM ",
                                    "WeightUnitMeasureCode": "LB ",
                                    "Weight": "27.42",
                                    "DaysToManufacture": "4",
                                    "ProductLine": "T ",
                                    "Class": "M ",
                                    "Style": "U ",
                                    "ProductSubcategoryID": "3",
                                    "ProductModelID": "35",
                                    "SellStartDate": "2013-05-30 00:00:00.000",
                                    "SellEndDate": "NULL",
                                    "DiscontinuedDate": "NULL",
                                    "rowguid": "84abda8f-0007-4bca-9a61-b2dea58866c3",
                                    "ModifiedDate": "2014-02-08 10:01:36.827"
                                },
                                {
                                    "ProductID": "972",
                                    "Name": "Touring-2000 Blue, 54",
                                    "ProductNumber": "BK-T44U-54",
                                    "MakeFlag": "1",
                                    "FinishedGoodsFlag": "1",
                                    "Color": "Blue",
                                    "SafetyStockLevel": "100",
                                    "ReorderPoint": "75",
                                    "StandardCost": "755,1508",
                                    "ListPrice": "1214,85",
                                    "Size": "54",
                                    "SizeUnitMeasureCode": "CM ",
                                    "WeightUnitMeasureCode": "LB ",
                                    "Weight": "27.68",
                                    "DaysToManufacture": "4",
                                    "ProductLine": "T ",
                                    "Class": "M ",
                                    "Style": "U ",
                                    "ProductSubcategoryID": "3",
                                    "ProductModelID": "35",
                                    "SellStartDate": "2013-05-30 00:00:00.000",
                                    "SellEndDate": "NULL",
                                    "DiscontinuedDate": "NULL",
                                    "rowguid": "6dcfe2a3-3555-44e4-9116-6f6dbe448b8b",
                                    "ModifiedDate": "2014-02-08 10:01:36.827"
                                },
                                {
                                    "ProductID": "978",
                                    "Name": "Touring-3000 Blue, 44",
                                    "ProductNumber": "BK-T18U-44",
                                    "MakeFlag": "1",
                                    "FinishedGoodsFlag": "1",
                                    "Color": "Blue",
                                    "SafetyStockLevel": "100",
                                    "ReorderPoint": "75",
                                    "StandardCost": "461,4448",
                                    "ListPrice": "742,35",
                                    "Size": "44",
                                    "SizeUnitMeasureCode": "CM ",
                                    "WeightUnitMeasureCode": "LB ",
                                    "Weight": "28.77",
                                    "DaysToManufacture": "4",
                                    "ProductLine": "T ",
                                    "Class": "L ",
                                    "Style": "U ",
                                    "ProductSubcategoryID": "3",
                                    "ProductModelID": "36",
                                    "SellStartDate": "2013-05-30 00:00:00.000",
                                    "SellEndDate": "NULL",
                                    "DiscontinuedDate": "NULL",
                                    "rowguid": "4f638e15-2ed0-4193-90ce-47da580e01dd",
                                    "ModifiedDate": "2014-02-08 10:01:36.827"
                                },
                                {
                                    "ProductID": "979",
                                    "Name": "Touring-3000 Blue, 50",
                                    "ProductNumber": "BK-T18U-50",
                                    "MakeFlag": "1",
                                    "FinishedGoodsFlag": "1",
                                    "Color": "Blue",
                                    "SafetyStockLevel": "100",
                                    "ReorderPoint": "75",
                                    "StandardCost": "461,4448",
                                    "ListPrice": "742,35",
                                    "Size": "50",
                                    "SizeUnitMeasureCode": "CM ",
                                    "WeightUnitMeasureCode": "LB ",
                                    "Weight": "29.13",
                                    "DaysToManufacture": "4",
                                    "ProductLine": "T ",
                                    "Class": "L ",
                                    "Style": "U ",
                                    "ProductSubcategoryID": "3",
                                    "ProductModelID": "36",
                                    "SellStartDate": "2013-05-30 00:00:00.000",
                                    "SellEndDate": "NULL",
                                    "DiscontinuedDate": "NULL",
                                    "rowguid": "de305b62-88fc-465b-b23d-d8c0f7e6d361",
                                    "ModifiedDate": "2014-02-08 10:01:36.827"
                                }
                            ]
                        },
                        "text/html": "<table><tr><th>ProductID</th><th>Name</th><th>ProductNumber</th><th>MakeFlag</th><th>FinishedGoodsFlag</th><th>Color</th><th>SafetyStockLevel</th><th>ReorderPoint</th><th>StandardCost</th><th>ListPrice</th><th>Size</th><th>SizeUnitMeasureCode</th><th>WeightUnitMeasureCode</th><th>Weight</th><th>DaysToManufacture</th><th>ProductLine</th><th>Class</th><th>Style</th><th>ProductSubcategoryID</th><th>ProductModelID</th><th>SellStartDate</th><th>SellEndDate</th><th>DiscontinuedDate</th><th>rowguid</th><th>ModifiedDate</th></tr><tr><td>903</td><td>LL Touring Frame - Blue, 44</td><td>FR-T67U-44</td><td>1</td><td>1</td><td>Blue</td><td>500</td><td>375</td><td>199,8519</td><td>333,42</td><td>44</td><td>CM </td><td>LB </td><td>3.02</td><td>1</td><td>T </td><td>L </td><td>U </td><td>16</td><td>10</td><td>2013-05-30 00:00:00.000</td><td>NULL</td><td>NULL</td><td>e9c17be7-f4dc-465e-ab73-c0198f37bfdd</td><td>2014-02-08 10:01:36.827</td></tr><tr><td>953</td><td>Touring-2000 Blue, 60</td><td>BK-T44U-60</td><td>1</td><td>1</td><td>Blue</td><td>100</td><td>75</td><td>755,1508</td><td>1214,85</td><td>60</td><td>CM </td><td>LB </td><td>27.90</td><td>4</td><td>T </td><td>M </td><td>U </td><td>3</td><td>35</td><td>2013-05-30 00:00:00.000</td><td>NULL</td><td>NULL</td><td>f1bb3957-8d27-47f3-91ec-c71822d11436</td><td>2014-02-08 10:01:36.827</td></tr><tr><td>958</td><td>Touring-3000 Blue, 54</td><td>BK-T18U-54</td><td>1</td><td>1</td><td>Blue</td><td>100</td><td>75</td><td>461,4448</td><td>742,35</td><td>54</td><td>CM </td><td>LB </td><td>29.68</td><td>4</td><td>T </td><td>L </td><td>U </td><td>3</td><td>36</td><td>2013-05-30 00:00:00.000</td><td>NULL</td><td>NULL</td><td>a3ee6897-52fe-42e4-92ec-7a91e7bb905a</td><td>2014-02-08 10:01:36.827</td></tr><tr><td>959</td><td>Touring-3000 Blue, 58</td><td>BK-T18U-58</td><td>1</td><td>1</td><td>Blue</td><td>100</td><td>75</td><td>461,4448</td><td>742,35</td><td>58</td><td>CM </td><td>LB </td><td>29.90</td><td>4</td><td>T </td><td>L </td><td>U </td><td>3</td><td>36</td><td>2013-05-30 00:00:00.000</td><td>NULL</td><td>NULL</td><td>23d89cee-9f44-4f3e-b289-63de6ba2b737</td><td>2014-02-08 10:01:36.827</td></tr><tr><td>960</td><td>Touring-3000 Blue, 62</td><td>BK-T18U-62</td><td>1</td><td>1</td><td>Blue</td><td>100</td><td>75</td><td>461,4448</td><td>742,35</td><td>62</td><td>CM </td><td>LB </td><td>30.00</td><td>4</td><td>T </td><td>L </td><td>U </td><td>3</td><td>36</td><td>2013-05-30 00:00:00.000</td><td>NULL</td><td>NULL</td><td>060192c9-bcd9-4260-b729-d6bcfadfb08e</td><td>2014-02-08 10:01:36.827</td></tr><tr><td>966</td><td>Touring-1000 Blue, 46</td><td>BK-T79U-46</td><td>1</td><td>1</td><td>Blue</td><td>100</td><td>75</td><td>1481,9379</td><td>2384,07</td><td>46</td><td>CM </td><td>LB </td><td>25.13</td><td>4</td><td>T </td><td>H </td><td>U </td><td>3</td><td>34</td><td>2013-05-30 00:00:00.000</td><td>NULL</td><td>NULL</td><td>86990d54-6efb-4c53-9974-6c3b0297e222</td><td>2014-02-08 10:01:36.827</td></tr><tr><td>967</td><td>Touring-1000 Blue, 50</td><td>BK-T79U-50</td><td>1</td><td>1</td><td>Blue</td><td>100</td><td>75</td><td>1481,9379</td><td>2384,07</td><td>50</td><td>CM </td><td>LB </td><td>25.42</td><td>4</td><td>T </td><td>H </td><td>U </td><td>3</td><td>34</td><td>2013-05-30 00:00:00.000</td><td>NULL</td><td>NULL</td><td>68c0a818-2985-46eb-8255-0fb70919fa24</td><td>2014-02-08 10:01:36.827</td></tr><tr><td>968</td><td>Touring-1000 Blue, 54</td><td>BK-T79U-54</td><td>1</td><td>1</td><td>Blue</td><td>100</td><td>75</td><td>1481,9379</td><td>2384,07</td><td>54</td><td>CM </td><td>LB </td><td>25.68</td><td>4</td><td>T </td><td>H </td><td>U </td><td>3</td><td>34</td><td>2013-05-30 00:00:00.000</td><td>NULL</td><td>NULL</td><td>12280a8c-7578-4367-ba71-214bcc1e4792</td><td>2014-02-08 10:01:36.827</td></tr><tr><td>969</td><td>Touring-1000 Blue, 60</td><td>BK-T79U-60</td><td>1</td><td>1</td><td>Blue</td><td>100</td><td>75</td><td>1481,9379</td><td>2384,07</td><td>60</td><td>CM </td><td>LB </td><td>25.90</td><td>4</td><td>T </td><td>H </td><td>U </td><td>3</td><td>34</td><td>2013-05-30 00:00:00.000</td><td>NULL</td><td>NULL</td><td>dd70cf36-449a-43fd-839d-a84ee14c849a</td><td>2014-02-08 10:01:36.827</td></tr><tr><td>970</td><td>Touring-2000 Blue, 46</td><td>BK-T44U-46</td><td>1</td><td>1</td><td>Blue</td><td>100</td><td>75</td><td>755,1508</td><td>1214,85</td><td>46</td><td>CM </td><td>LB </td><td>27.13</td><td>4</td><td>T </td><td>M </td><td>U </td><td>3</td><td>35</td><td>2013-05-30 00:00:00.000</td><td>NULL</td><td>NULL</td><td>c0009006-715f-4b76-a05a-1a0d3adfb49a</td><td>2014-02-08 10:01:36.827</td></tr><tr><td>971</td><td>Touring-2000 Blue, 50</td><td>BK-T44U-50</td><td>1</td><td>1</td><td>Blue</td><td>100</td><td>75</td><td>755,1508</td><td>1214,85</td><td>50</td><td>CM </td><td>LB </td><td>27.42</td><td>4</td><td>T </td><td>M </td><td>U </td><td>3</td><td>35</td><td>2013-05-30 00:00:00.000</td><td>NULL</td><td>NULL</td><td>84abda8f-0007-4bca-9a61-b2dea58866c3</td><td>2014-02-08 10:01:36.827</td></tr><tr><td>972</td><td>Touring-2000 Blue, 54</td><td>BK-T44U-54</td><td>1</td><td>1</td><td>Blue</td><td>100</td><td>75</td><td>755,1508</td><td>1214,85</td><td>54</td><td>CM </td><td>LB </td><td>27.68</td><td>4</td><td>T </td><td>M </td><td>U </td><td>3</td><td>35</td><td>2013-05-30 00:00:00.000</td><td>NULL</td><td>NULL</td><td>6dcfe2a3-3555-44e4-9116-6f6dbe448b8b</td><td>2014-02-08 10:01:36.827</td></tr><tr><td>978</td><td>Touring-3000 Blue, 44</td><td>BK-T18U-44</td><td>1</td><td>1</td><td>Blue</td><td>100</td><td>75</td><td>461,4448</td><td>742,35</td><td>44</td><td>CM </td><td>LB </td><td>28.77</td><td>4</td><td>T </td><td>L </td><td>U </td><td>3</td><td>36</td><td>2013-05-30 00:00:00.000</td><td>NULL</td><td>NULL</td><td>4f638e15-2ed0-4193-90ce-47da580e01dd</td><td>2014-02-08 10:01:36.827</td></tr><tr><td>979</td><td>Touring-3000 Blue, 50</td><td>BK-T18U-50</td><td>1</td><td>1</td><td>Blue</td><td>100</td><td>75</td><td>461,4448</td><td>742,35</td><td>50</td><td>CM </td><td>LB </td><td>29.13</td><td>4</td><td>T </td><td>L </td><td>U </td><td>3</td><td>36</td><td>2013-05-30 00:00:00.000</td><td>NULL</td><td>NULL</td><td>de305b62-88fc-465b-b23d-d8c0f7e6d361</td><td>2014-02-08 10:01:36.827</td></tr></table>"
                    },
                    "metadata": {}
                }
            ],
            "execution_count": 1
        },
        {
            "cell_type": "markdown",
            "source": [
                "In this statement, the first condition checks to see if the row has the value **_Blue_** in the **_Color_** column. The second condition checks to see the value in the **_ProductID_** column is greater than 900. <mark>_**Since the AND operator is used, both of theses conditions must be true for a row to be returned from this query**_.</mark>"
            ],
            "metadata": {
                "language": "sql",
                "azdata_cell_guid": "491b9b43-8c85-4ad1-9176-131b78db328f"
            },
            "attachments": {}
        },
        {
            "cell_type": "markdown",
            "source": [
                "- **A complicated WHERE clause**"
            ],
            "metadata": {
                "language": "sql",
                "azdata_cell_guid": "31aabbea-c1ae-4989-b4e3-9879510b42d3"
            },
            "attachments": {}
        },
        {
            "cell_type": "code",
            "source": [
                "SELECT  *\n",
                "FROM    AdventureWorks2017.Production.Product\n",
                "WHERE   ProductID > 900\n",
                "        AND ( Color = 'Blue'\n",
                "              OR Color = 'Green' \n",
                "            ) ;"
            ],
            "metadata": {
                "language": "sql",
                "azdata_cell_guid": "797dc049-7881-44ac-9e4b-1d9e826e3ccc"
            },
            "outputs": [
                {
                    "output_type": "display_data",
                    "data": {
                        "text/html": "(14 rows affected)"
                    },
                    "metadata": {}
                },
                {
                    "output_type": "display_data",
                    "data": {
                        "text/html": "Total execution time: 00:00:00.018"
                    },
                    "metadata": {}
                },
                {
                    "output_type": "execute_result",
                    "execution_count": 2,
                    "data": {
                        "application/vnd.dataresource+json": {
                            "schema": {
                                "fields": [
                                    {
                                        "name": "ProductID"
                                    },
                                    {
                                        "name": "Name"
                                    },
                                    {
                                        "name": "ProductNumber"
                                    },
                                    {
                                        "name": "MakeFlag"
                                    },
                                    {
                                        "name": "FinishedGoodsFlag"
                                    },
                                    {
                                        "name": "Color"
                                    },
                                    {
                                        "name": "SafetyStockLevel"
                                    },
                                    {
                                        "name": "ReorderPoint"
                                    },
                                    {
                                        "name": "StandardCost"
                                    },
                                    {
                                        "name": "ListPrice"
                                    },
                                    {
                                        "name": "Size"
                                    },
                                    {
                                        "name": "SizeUnitMeasureCode"
                                    },
                                    {
                                        "name": "WeightUnitMeasureCode"
                                    },
                                    {
                                        "name": "Weight"
                                    },
                                    {
                                        "name": "DaysToManufacture"
                                    },
                                    {
                                        "name": "ProductLine"
                                    },
                                    {
                                        "name": "Class"
                                    },
                                    {
                                        "name": "Style"
                                    },
                                    {
                                        "name": "ProductSubcategoryID"
                                    },
                                    {
                                        "name": "ProductModelID"
                                    },
                                    {
                                        "name": "SellStartDate"
                                    },
                                    {
                                        "name": "SellEndDate"
                                    },
                                    {
                                        "name": "DiscontinuedDate"
                                    },
                                    {
                                        "name": "rowguid"
                                    },
                                    {
                                        "name": "ModifiedDate"
                                    }
                                ]
                            },
                            "data": [
                                {
                                    "ProductID": "903",
                                    "Name": "LL Touring Frame - Blue, 44",
                                    "ProductNumber": "FR-T67U-44",
                                    "MakeFlag": "1",
                                    "FinishedGoodsFlag": "1",
                                    "Color": "Blue",
                                    "SafetyStockLevel": "500",
                                    "ReorderPoint": "375",
                                    "StandardCost": "199,8519",
                                    "ListPrice": "333,42",
                                    "Size": "44",
                                    "SizeUnitMeasureCode": "CM ",
                                    "WeightUnitMeasureCode": "LB ",
                                    "Weight": "3.02",
                                    "DaysToManufacture": "1",
                                    "ProductLine": "T ",
                                    "Class": "L ",
                                    "Style": "U ",
                                    "ProductSubcategoryID": "16",
                                    "ProductModelID": "10",
                                    "SellStartDate": "2013-05-30 00:00:00.000",
                                    "SellEndDate": "NULL",
                                    "DiscontinuedDate": "NULL",
                                    "rowguid": "e9c17be7-f4dc-465e-ab73-c0198f37bfdd",
                                    "ModifiedDate": "2014-02-08 10:01:36.827"
                                },
                                {
                                    "ProductID": "953",
                                    "Name": "Touring-2000 Blue, 60",
                                    "ProductNumber": "BK-T44U-60",
                                    "MakeFlag": "1",
                                    "FinishedGoodsFlag": "1",
                                    "Color": "Blue",
                                    "SafetyStockLevel": "100",
                                    "ReorderPoint": "75",
                                    "StandardCost": "755,1508",
                                    "ListPrice": "1214,85",
                                    "Size": "60",
                                    "SizeUnitMeasureCode": "CM ",
                                    "WeightUnitMeasureCode": "LB ",
                                    "Weight": "27.90",
                                    "DaysToManufacture": "4",
                                    "ProductLine": "T ",
                                    "Class": "M ",
                                    "Style": "U ",
                                    "ProductSubcategoryID": "3",
                                    "ProductModelID": "35",
                                    "SellStartDate": "2013-05-30 00:00:00.000",
                                    "SellEndDate": "NULL",
                                    "DiscontinuedDate": "NULL",
                                    "rowguid": "f1bb3957-8d27-47f3-91ec-c71822d11436",
                                    "ModifiedDate": "2014-02-08 10:01:36.827"
                                },
                                {
                                    "ProductID": "958",
                                    "Name": "Touring-3000 Blue, 54",
                                    "ProductNumber": "BK-T18U-54",
                                    "MakeFlag": "1",
                                    "FinishedGoodsFlag": "1",
                                    "Color": "Blue",
                                    "SafetyStockLevel": "100",
                                    "ReorderPoint": "75",
                                    "StandardCost": "461,4448",
                                    "ListPrice": "742,35",
                                    "Size": "54",
                                    "SizeUnitMeasureCode": "CM ",
                                    "WeightUnitMeasureCode": "LB ",
                                    "Weight": "29.68",
                                    "DaysToManufacture": "4",
                                    "ProductLine": "T ",
                                    "Class": "L ",
                                    "Style": "U ",
                                    "ProductSubcategoryID": "3",
                                    "ProductModelID": "36",
                                    "SellStartDate": "2013-05-30 00:00:00.000",
                                    "SellEndDate": "NULL",
                                    "DiscontinuedDate": "NULL",
                                    "rowguid": "a3ee6897-52fe-42e4-92ec-7a91e7bb905a",
                                    "ModifiedDate": "2014-02-08 10:01:36.827"
                                },
                                {
                                    "ProductID": "959",
                                    "Name": "Touring-3000 Blue, 58",
                                    "ProductNumber": "BK-T18U-58",
                                    "MakeFlag": "1",
                                    "FinishedGoodsFlag": "1",
                                    "Color": "Blue",
                                    "SafetyStockLevel": "100",
                                    "ReorderPoint": "75",
                                    "StandardCost": "461,4448",
                                    "ListPrice": "742,35",
                                    "Size": "58",
                                    "SizeUnitMeasureCode": "CM ",
                                    "WeightUnitMeasureCode": "LB ",
                                    "Weight": "29.90",
                                    "DaysToManufacture": "4",
                                    "ProductLine": "T ",
                                    "Class": "L ",
                                    "Style": "U ",
                                    "ProductSubcategoryID": "3",
                                    "ProductModelID": "36",
                                    "SellStartDate": "2013-05-30 00:00:00.000",
                                    "SellEndDate": "NULL",
                                    "DiscontinuedDate": "NULL",
                                    "rowguid": "23d89cee-9f44-4f3e-b289-63de6ba2b737",
                                    "ModifiedDate": "2014-02-08 10:01:36.827"
                                },
                                {
                                    "ProductID": "960",
                                    "Name": "Touring-3000 Blue, 62",
                                    "ProductNumber": "BK-T18U-62",
                                    "MakeFlag": "1",
                                    "FinishedGoodsFlag": "1",
                                    "Color": "Blue",
                                    "SafetyStockLevel": "100",
                                    "ReorderPoint": "75",
                                    "StandardCost": "461,4448",
                                    "ListPrice": "742,35",
                                    "Size": "62",
                                    "SizeUnitMeasureCode": "CM ",
                                    "WeightUnitMeasureCode": "LB ",
                                    "Weight": "30.00",
                                    "DaysToManufacture": "4",
                                    "ProductLine": "T ",
                                    "Class": "L ",
                                    "Style": "U ",
                                    "ProductSubcategoryID": "3",
                                    "ProductModelID": "36",
                                    "SellStartDate": "2013-05-30 00:00:00.000",
                                    "SellEndDate": "NULL",
                                    "DiscontinuedDate": "NULL",
                                    "rowguid": "060192c9-bcd9-4260-b729-d6bcfadfb08e",
                                    "ModifiedDate": "2014-02-08 10:01:36.827"
                                },
                                {
                                    "ProductID": "966",
                                    "Name": "Touring-1000 Blue, 46",
                                    "ProductNumber": "BK-T79U-46",
                                    "MakeFlag": "1",
                                    "FinishedGoodsFlag": "1",
                                    "Color": "Blue",
                                    "SafetyStockLevel": "100",
                                    "ReorderPoint": "75",
                                    "StandardCost": "1481,9379",
                                    "ListPrice": "2384,07",
                                    "Size": "46",
                                    "SizeUnitMeasureCode": "CM ",
                                    "WeightUnitMeasureCode": "LB ",
                                    "Weight": "25.13",
                                    "DaysToManufacture": "4",
                                    "ProductLine": "T ",
                                    "Class": "H ",
                                    "Style": "U ",
                                    "ProductSubcategoryID": "3",
                                    "ProductModelID": "34",
                                    "SellStartDate": "2013-05-30 00:00:00.000",
                                    "SellEndDate": "NULL",
                                    "DiscontinuedDate": "NULL",
                                    "rowguid": "86990d54-6efb-4c53-9974-6c3b0297e222",
                                    "ModifiedDate": "2014-02-08 10:01:36.827"
                                },
                                {
                                    "ProductID": "967",
                                    "Name": "Touring-1000 Blue, 50",
                                    "ProductNumber": "BK-T79U-50",
                                    "MakeFlag": "1",
                                    "FinishedGoodsFlag": "1",
                                    "Color": "Blue",
                                    "SafetyStockLevel": "100",
                                    "ReorderPoint": "75",
                                    "StandardCost": "1481,9379",
                                    "ListPrice": "2384,07",
                                    "Size": "50",
                                    "SizeUnitMeasureCode": "CM ",
                                    "WeightUnitMeasureCode": "LB ",
                                    "Weight": "25.42",
                                    "DaysToManufacture": "4",
                                    "ProductLine": "T ",
                                    "Class": "H ",
                                    "Style": "U ",
                                    "ProductSubcategoryID": "3",
                                    "ProductModelID": "34",
                                    "SellStartDate": "2013-05-30 00:00:00.000",
                                    "SellEndDate": "NULL",
                                    "DiscontinuedDate": "NULL",
                                    "rowguid": "68c0a818-2985-46eb-8255-0fb70919fa24",
                                    "ModifiedDate": "2014-02-08 10:01:36.827"
                                },
                                {
                                    "ProductID": "968",
                                    "Name": "Touring-1000 Blue, 54",
                                    "ProductNumber": "BK-T79U-54",
                                    "MakeFlag": "1",
                                    "FinishedGoodsFlag": "1",
                                    "Color": "Blue",
                                    "SafetyStockLevel": "100",
                                    "ReorderPoint": "75",
                                    "StandardCost": "1481,9379",
                                    "ListPrice": "2384,07",
                                    "Size": "54",
                                    "SizeUnitMeasureCode": "CM ",
                                    "WeightUnitMeasureCode": "LB ",
                                    "Weight": "25.68",
                                    "DaysToManufacture": "4",
                                    "ProductLine": "T ",
                                    "Class": "H ",
                                    "Style": "U ",
                                    "ProductSubcategoryID": "3",
                                    "ProductModelID": "34",
                                    "SellStartDate": "2013-05-30 00:00:00.000",
                                    "SellEndDate": "NULL",
                                    "DiscontinuedDate": "NULL",
                                    "rowguid": "12280a8c-7578-4367-ba71-214bcc1e4792",
                                    "ModifiedDate": "2014-02-08 10:01:36.827"
                                },
                                {
                                    "ProductID": "969",
                                    "Name": "Touring-1000 Blue, 60",
                                    "ProductNumber": "BK-T79U-60",
                                    "MakeFlag": "1",
                                    "FinishedGoodsFlag": "1",
                                    "Color": "Blue",
                                    "SafetyStockLevel": "100",
                                    "ReorderPoint": "75",
                                    "StandardCost": "1481,9379",
                                    "ListPrice": "2384,07",
                                    "Size": "60",
                                    "SizeUnitMeasureCode": "CM ",
                                    "WeightUnitMeasureCode": "LB ",
                                    "Weight": "25.90",
                                    "DaysToManufacture": "4",
                                    "ProductLine": "T ",
                                    "Class": "H ",
                                    "Style": "U ",
                                    "ProductSubcategoryID": "3",
                                    "ProductModelID": "34",
                                    "SellStartDate": "2013-05-30 00:00:00.000",
                                    "SellEndDate": "NULL",
                                    "DiscontinuedDate": "NULL",
                                    "rowguid": "dd70cf36-449a-43fd-839d-a84ee14c849a",
                                    "ModifiedDate": "2014-02-08 10:01:36.827"
                                },
                                {
                                    "ProductID": "970",
                                    "Name": "Touring-2000 Blue, 46",
                                    "ProductNumber": "BK-T44U-46",
                                    "MakeFlag": "1",
                                    "FinishedGoodsFlag": "1",
                                    "Color": "Blue",
                                    "SafetyStockLevel": "100",
                                    "ReorderPoint": "75",
                                    "StandardCost": "755,1508",
                                    "ListPrice": "1214,85",
                                    "Size": "46",
                                    "SizeUnitMeasureCode": "CM ",
                                    "WeightUnitMeasureCode": "LB ",
                                    "Weight": "27.13",
                                    "DaysToManufacture": "4",
                                    "ProductLine": "T ",
                                    "Class": "M ",
                                    "Style": "U ",
                                    "ProductSubcategoryID": "3",
                                    "ProductModelID": "35",
                                    "SellStartDate": "2013-05-30 00:00:00.000",
                                    "SellEndDate": "NULL",
                                    "DiscontinuedDate": "NULL",
                                    "rowguid": "c0009006-715f-4b76-a05a-1a0d3adfb49a",
                                    "ModifiedDate": "2014-02-08 10:01:36.827"
                                },
                                {
                                    "ProductID": "971",
                                    "Name": "Touring-2000 Blue, 50",
                                    "ProductNumber": "BK-T44U-50",
                                    "MakeFlag": "1",
                                    "FinishedGoodsFlag": "1",
                                    "Color": "Blue",
                                    "SafetyStockLevel": "100",
                                    "ReorderPoint": "75",
                                    "StandardCost": "755,1508",
                                    "ListPrice": "1214,85",
                                    "Size": "50",
                                    "SizeUnitMeasureCode": "CM ",
                                    "WeightUnitMeasureCode": "LB ",
                                    "Weight": "27.42",
                                    "DaysToManufacture": "4",
                                    "ProductLine": "T ",
                                    "Class": "M ",
                                    "Style": "U ",
                                    "ProductSubcategoryID": "3",
                                    "ProductModelID": "35",
                                    "SellStartDate": "2013-05-30 00:00:00.000",
                                    "SellEndDate": "NULL",
                                    "DiscontinuedDate": "NULL",
                                    "rowguid": "84abda8f-0007-4bca-9a61-b2dea58866c3",
                                    "ModifiedDate": "2014-02-08 10:01:36.827"
                                },
                                {
                                    "ProductID": "972",
                                    "Name": "Touring-2000 Blue, 54",
                                    "ProductNumber": "BK-T44U-54",
                                    "MakeFlag": "1",
                                    "FinishedGoodsFlag": "1",
                                    "Color": "Blue",
                                    "SafetyStockLevel": "100",
                                    "ReorderPoint": "75",
                                    "StandardCost": "755,1508",
                                    "ListPrice": "1214,85",
                                    "Size": "54",
                                    "SizeUnitMeasureCode": "CM ",
                                    "WeightUnitMeasureCode": "LB ",
                                    "Weight": "27.68",
                                    "DaysToManufacture": "4",
                                    "ProductLine": "T ",
                                    "Class": "M ",
                                    "Style": "U ",
                                    "ProductSubcategoryID": "3",
                                    "ProductModelID": "35",
                                    "SellStartDate": "2013-05-30 00:00:00.000",
                                    "SellEndDate": "NULL",
                                    "DiscontinuedDate": "NULL",
                                    "rowguid": "6dcfe2a3-3555-44e4-9116-6f6dbe448b8b",
                                    "ModifiedDate": "2014-02-08 10:01:36.827"
                                },
                                {
                                    "ProductID": "978",
                                    "Name": "Touring-3000 Blue, 44",
                                    "ProductNumber": "BK-T18U-44",
                                    "MakeFlag": "1",
                                    "FinishedGoodsFlag": "1",
                                    "Color": "Blue",
                                    "SafetyStockLevel": "100",
                                    "ReorderPoint": "75",
                                    "StandardCost": "461,4448",
                                    "ListPrice": "742,35",
                                    "Size": "44",
                                    "SizeUnitMeasureCode": "CM ",
                                    "WeightUnitMeasureCode": "LB ",
                                    "Weight": "28.77",
                                    "DaysToManufacture": "4",
                                    "ProductLine": "T ",
                                    "Class": "L ",
                                    "Style": "U ",
                                    "ProductSubcategoryID": "3",
                                    "ProductModelID": "36",
                                    "SellStartDate": "2013-05-30 00:00:00.000",
                                    "SellEndDate": "NULL",
                                    "DiscontinuedDate": "NULL",
                                    "rowguid": "4f638e15-2ed0-4193-90ce-47da580e01dd",
                                    "ModifiedDate": "2014-02-08 10:01:36.827"
                                },
                                {
                                    "ProductID": "979",
                                    "Name": "Touring-3000 Blue, 50",
                                    "ProductNumber": "BK-T18U-50",
                                    "MakeFlag": "1",
                                    "FinishedGoodsFlag": "1",
                                    "Color": "Blue",
                                    "SafetyStockLevel": "100",
                                    "ReorderPoint": "75",
                                    "StandardCost": "461,4448",
                                    "ListPrice": "742,35",
                                    "Size": "50",
                                    "SizeUnitMeasureCode": "CM ",
                                    "WeightUnitMeasureCode": "LB ",
                                    "Weight": "29.13",
                                    "DaysToManufacture": "4",
                                    "ProductLine": "T ",
                                    "Class": "L ",
                                    "Style": "U ",
                                    "ProductSubcategoryID": "3",
                                    "ProductModelID": "36",
                                    "SellStartDate": "2013-05-30 00:00:00.000",
                                    "SellEndDate": "NULL",
                                    "DiscontinuedDate": "NULL",
                                    "rowguid": "de305b62-88fc-465b-b23d-d8c0f7e6d361",
                                    "ModifiedDate": "2014-02-08 10:01:36.827"
                                }
                            ]
                        },
                        "text/html": "<table><tr><th>ProductID</th><th>Name</th><th>ProductNumber</th><th>MakeFlag</th><th>FinishedGoodsFlag</th><th>Color</th><th>SafetyStockLevel</th><th>ReorderPoint</th><th>StandardCost</th><th>ListPrice</th><th>Size</th><th>SizeUnitMeasureCode</th><th>WeightUnitMeasureCode</th><th>Weight</th><th>DaysToManufacture</th><th>ProductLine</th><th>Class</th><th>Style</th><th>ProductSubcategoryID</th><th>ProductModelID</th><th>SellStartDate</th><th>SellEndDate</th><th>DiscontinuedDate</th><th>rowguid</th><th>ModifiedDate</th></tr><tr><td>903</td><td>LL Touring Frame - Blue, 44</td><td>FR-T67U-44</td><td>1</td><td>1</td><td>Blue</td><td>500</td><td>375</td><td>199,8519</td><td>333,42</td><td>44</td><td>CM </td><td>LB </td><td>3.02</td><td>1</td><td>T </td><td>L </td><td>U </td><td>16</td><td>10</td><td>2013-05-30 00:00:00.000</td><td>NULL</td><td>NULL</td><td>e9c17be7-f4dc-465e-ab73-c0198f37bfdd</td><td>2014-02-08 10:01:36.827</td></tr><tr><td>953</td><td>Touring-2000 Blue, 60</td><td>BK-T44U-60</td><td>1</td><td>1</td><td>Blue</td><td>100</td><td>75</td><td>755,1508</td><td>1214,85</td><td>60</td><td>CM </td><td>LB </td><td>27.90</td><td>4</td><td>T </td><td>M </td><td>U </td><td>3</td><td>35</td><td>2013-05-30 00:00:00.000</td><td>NULL</td><td>NULL</td><td>f1bb3957-8d27-47f3-91ec-c71822d11436</td><td>2014-02-08 10:01:36.827</td></tr><tr><td>958</td><td>Touring-3000 Blue, 54</td><td>BK-T18U-54</td><td>1</td><td>1</td><td>Blue</td><td>100</td><td>75</td><td>461,4448</td><td>742,35</td><td>54</td><td>CM </td><td>LB </td><td>29.68</td><td>4</td><td>T </td><td>L </td><td>U </td><td>3</td><td>36</td><td>2013-05-30 00:00:00.000</td><td>NULL</td><td>NULL</td><td>a3ee6897-52fe-42e4-92ec-7a91e7bb905a</td><td>2014-02-08 10:01:36.827</td></tr><tr><td>959</td><td>Touring-3000 Blue, 58</td><td>BK-T18U-58</td><td>1</td><td>1</td><td>Blue</td><td>100</td><td>75</td><td>461,4448</td><td>742,35</td><td>58</td><td>CM </td><td>LB </td><td>29.90</td><td>4</td><td>T </td><td>L </td><td>U </td><td>3</td><td>36</td><td>2013-05-30 00:00:00.000</td><td>NULL</td><td>NULL</td><td>23d89cee-9f44-4f3e-b289-63de6ba2b737</td><td>2014-02-08 10:01:36.827</td></tr><tr><td>960</td><td>Touring-3000 Blue, 62</td><td>BK-T18U-62</td><td>1</td><td>1</td><td>Blue</td><td>100</td><td>75</td><td>461,4448</td><td>742,35</td><td>62</td><td>CM </td><td>LB </td><td>30.00</td><td>4</td><td>T </td><td>L </td><td>U </td><td>3</td><td>36</td><td>2013-05-30 00:00:00.000</td><td>NULL</td><td>NULL</td><td>060192c9-bcd9-4260-b729-d6bcfadfb08e</td><td>2014-02-08 10:01:36.827</td></tr><tr><td>966</td><td>Touring-1000 Blue, 46</td><td>BK-T79U-46</td><td>1</td><td>1</td><td>Blue</td><td>100</td><td>75</td><td>1481,9379</td><td>2384,07</td><td>46</td><td>CM </td><td>LB </td><td>25.13</td><td>4</td><td>T </td><td>H </td><td>U </td><td>3</td><td>34</td><td>2013-05-30 00:00:00.000</td><td>NULL</td><td>NULL</td><td>86990d54-6efb-4c53-9974-6c3b0297e222</td><td>2014-02-08 10:01:36.827</td></tr><tr><td>967</td><td>Touring-1000 Blue, 50</td><td>BK-T79U-50</td><td>1</td><td>1</td><td>Blue</td><td>100</td><td>75</td><td>1481,9379</td><td>2384,07</td><td>50</td><td>CM </td><td>LB </td><td>25.42</td><td>4</td><td>T </td><td>H </td><td>U </td><td>3</td><td>34</td><td>2013-05-30 00:00:00.000</td><td>NULL</td><td>NULL</td><td>68c0a818-2985-46eb-8255-0fb70919fa24</td><td>2014-02-08 10:01:36.827</td></tr><tr><td>968</td><td>Touring-1000 Blue, 54</td><td>BK-T79U-54</td><td>1</td><td>1</td><td>Blue</td><td>100</td><td>75</td><td>1481,9379</td><td>2384,07</td><td>54</td><td>CM </td><td>LB </td><td>25.68</td><td>4</td><td>T </td><td>H </td><td>U </td><td>3</td><td>34</td><td>2013-05-30 00:00:00.000</td><td>NULL</td><td>NULL</td><td>12280a8c-7578-4367-ba71-214bcc1e4792</td><td>2014-02-08 10:01:36.827</td></tr><tr><td>969</td><td>Touring-1000 Blue, 60</td><td>BK-T79U-60</td><td>1</td><td>1</td><td>Blue</td><td>100</td><td>75</td><td>1481,9379</td><td>2384,07</td><td>60</td><td>CM </td><td>LB </td><td>25.90</td><td>4</td><td>T </td><td>H </td><td>U </td><td>3</td><td>34</td><td>2013-05-30 00:00:00.000</td><td>NULL</td><td>NULL</td><td>dd70cf36-449a-43fd-839d-a84ee14c849a</td><td>2014-02-08 10:01:36.827</td></tr><tr><td>970</td><td>Touring-2000 Blue, 46</td><td>BK-T44U-46</td><td>1</td><td>1</td><td>Blue</td><td>100</td><td>75</td><td>755,1508</td><td>1214,85</td><td>46</td><td>CM </td><td>LB </td><td>27.13</td><td>4</td><td>T </td><td>M </td><td>U </td><td>3</td><td>35</td><td>2013-05-30 00:00:00.000</td><td>NULL</td><td>NULL</td><td>c0009006-715f-4b76-a05a-1a0d3adfb49a</td><td>2014-02-08 10:01:36.827</td></tr><tr><td>971</td><td>Touring-2000 Blue, 50</td><td>BK-T44U-50</td><td>1</td><td>1</td><td>Blue</td><td>100</td><td>75</td><td>755,1508</td><td>1214,85</td><td>50</td><td>CM </td><td>LB </td><td>27.42</td><td>4</td><td>T </td><td>M </td><td>U </td><td>3</td><td>35</td><td>2013-05-30 00:00:00.000</td><td>NULL</td><td>NULL</td><td>84abda8f-0007-4bca-9a61-b2dea58866c3</td><td>2014-02-08 10:01:36.827</td></tr><tr><td>972</td><td>Touring-2000 Blue, 54</td><td>BK-T44U-54</td><td>1</td><td>1</td><td>Blue</td><td>100</td><td>75</td><td>755,1508</td><td>1214,85</td><td>54</td><td>CM </td><td>LB </td><td>27.68</td><td>4</td><td>T </td><td>M </td><td>U </td><td>3</td><td>35</td><td>2013-05-30 00:00:00.000</td><td>NULL</td><td>NULL</td><td>6dcfe2a3-3555-44e4-9116-6f6dbe448b8b</td><td>2014-02-08 10:01:36.827</td></tr><tr><td>978</td><td>Touring-3000 Blue, 44</td><td>BK-T18U-44</td><td>1</td><td>1</td><td>Blue</td><td>100</td><td>75</td><td>461,4448</td><td>742,35</td><td>44</td><td>CM </td><td>LB </td><td>28.77</td><td>4</td><td>T </td><td>L </td><td>U </td><td>3</td><td>36</td><td>2013-05-30 00:00:00.000</td><td>NULL</td><td>NULL</td><td>4f638e15-2ed0-4193-90ce-47da580e01dd</td><td>2014-02-08 10:01:36.827</td></tr><tr><td>979</td><td>Touring-3000 Blue, 50</td><td>BK-T18U-50</td><td>1</td><td>1</td><td>Blue</td><td>100</td><td>75</td><td>461,4448</td><td>742,35</td><td>50</td><td>CM </td><td>LB </td><td>29.13</td><td>4</td><td>T </td><td>L </td><td>U </td><td>3</td><td>36</td><td>2013-05-30 00:00:00.000</td><td>NULL</td><td>NULL</td><td>de305b62-88fc-465b-b23d-d8c0f7e6d361</td><td>2014-02-08 10:01:36.827</td></tr></table>"
                    },
                    "metadata": {}
                }
            ],
            "execution_count": 2
        },
        {
            "cell_type": "markdown",
            "source": [
                "This example returns Production.Product rows where the ProductID value is greater than 900 and the value in the Color column is either Blue or Green. By looking at this query, you can see that I have placed parenthesis around the two different Color column conditions are evalueted against each other, just like you would do in a mathematical expression. By using the parentheses, the OR operation between the two color conditions will be evaluated before evaluating the AND operator. When using AND and OR together without parentheses, the order in which these logical operators are processed is bases on the rules of logical operator precedence. The precedence rules dictate that AND operations are performed before OR operations if no parentheses are included."
            ],
            "metadata": {
                "language": "sql",
                "azdata_cell_guid": "567c3416-5949-43c6-88d7-c2625b6b78eb"
            },
            "attachments": {}
        },
        {
            "cell_type": "markdown",
            "source": [
                "- **Using NOT In the WHERE clause**"
            ],
            "metadata": {
                "language": "sql",
                "azdata_cell_guid": "38b6a41f-66cc-412a-8357-c1c43ecd42ff"
            },
            "attachments": {}
        },
        {
            "cell_type": "code",
            "source": [
                "SELECT  Name ,\n",
                "        Color\n",
                "FROM    AdventureWorks2017.Production.Product\n",
                "WHERE   ProductID > 900\n",
                "        AND NOT ( Color = 'Blue'\n",
                "                  OR Color = 'Green'\n",
                "                ) ;"
            ],
            "metadata": {
                "language": "sql",
                "azdata_cell_guid": "23ae4569-de4d-43e7-b935-3231d474f4d7"
            },
            "outputs": [
                {
                    "output_type": "display_data",
                    "data": {
                        "text/html": "(61 rows affected)"
                    },
                    "metadata": {}
                },
                {
                    "output_type": "display_data",
                    "data": {
                        "text/html": "Total execution time: 00:00:00.025"
                    },
                    "metadata": {}
                },
                {
                    "output_type": "execute_result",
                    "execution_count": 3,
                    "data": {
                        "application/vnd.dataresource+json": {
                            "schema": {
                                "fields": [
                                    {
                                        "name": "Name"
                                    },
                                    {
                                        "name": "Color"
                                    }
                                ]
                            },
                            "data": [
                                {
                                    "Name": "LL Touring Frame - Yellow, 54",
                                    "Color": "Yellow"
                                },
                                {
                                    "Name": "LL Touring Frame - Yellow, 58",
                                    "Color": "Yellow"
                                },
                                {
                                    "Name": "ML Mountain Frame-W - Silver, 40",
                                    "Color": "Silver"
                                },
                                {
                                    "Name": "ML Mountain Frame-W - Silver, 42",
                                    "Color": "Silver"
                                },
                                {
                                    "Name": "ML Mountain Frame-W - Silver, 46",
                                    "Color": "Silver"
                                },
                                {
                                    "Name": "Rear Brakes",
                                    "Color": "Silver"
                                },
                                {
                                    "Name": "LL Mountain Frame - Silver, 42",
                                    "Color": "Silver"
                                },
                                {
                                    "Name": "LL Mountain Frame - Silver, 44",
                                    "Color": "Silver"
                                },
                                {
                                    "Name": "LL Mountain Frame - Silver, 48",
                                    "Color": "Silver"
                                },
                                {
                                    "Name": "LL Mountain Frame - Silver, 52",
                                    "Color": "Silver"
                                },
                                {
                                    "Name": "LL Mountain Frame - Black, 42",
                                    "Color": "Black"
                                },
                                {
                                    "Name": "LL Mountain Frame - Black, 44",
                                    "Color": "Black"
                                },
                                {
                                    "Name": "LL Mountain Frame - Black, 48",
                                    "Color": "Black"
                                },
                                {
                                    "Name": "LL Mountain Frame - Black, 52",
                                    "Color": "Black"
                                },
                                {
                                    "Name": "LL Mountain Pedal",
                                    "Color": "Silver/Black"
                                },
                                {
                                    "Name": "ML Mountain Pedal",
                                    "Color": "Silver/Black"
                                },
                                {
                                    "Name": "HL Mountain Pedal",
                                    "Color": "Silver/Black"
                                },
                                {
                                    "Name": "LL Road Pedal",
                                    "Color": "Silver/Black"
                                },
                                {
                                    "Name": "ML Road Pedal",
                                    "Color": "Silver/Black"
                                },
                                {
                                    "Name": "HL Road Pedal",
                                    "Color": "Silver/Black"
                                },
                                {
                                    "Name": "Touring Pedal",
                                    "Color": "Silver/Black"
                                },
                                {
                                    "Name": "ML Mountain Frame-W - Silver, 38",
                                    "Color": "Silver"
                                },
                                {
                                    "Name": "LL Mountain Frame - Black, 40",
                                    "Color": "Black"
                                },
                                {
                                    "Name": "LL Mountain Frame - Silver, 40",
                                    "Color": "Silver"
                                },
                                {
                                    "Name": "Front Derailleur",
                                    "Color": "Silver"
                                },
                                {
                                    "Name": "Front Brakes",
                                    "Color": "Silver"
                                },
                                {
                                    "Name": "LL Crankset",
                                    "Color": "Black"
                                },
                                {
                                    "Name": "ML Crankset",
                                    "Color": "Black"
                                },
                                {
                                    "Name": "HL Crankset",
                                    "Color": "Black"
                                },
                                {
                                    "Name": "Chain",
                                    "Color": "Silver"
                                },
                                {
                                    "Name": "Touring-1000 Yellow, 46",
                                    "Color": "Yellow"
                                },
                                {
                                    "Name": "Touring-1000 Yellow, 50",
                                    "Color": "Yellow"
                                },
                                {
                                    "Name": "Touring-1000 Yellow, 54",
                                    "Color": "Yellow"
                                },
                                {
                                    "Name": "Touring-1000 Yellow, 60",
                                    "Color": "Yellow"
                                },
                                {
                                    "Name": "Touring-3000 Yellow, 44",
                                    "Color": "Yellow"
                                },
                                {
                                    "Name": "Touring-3000 Yellow, 50",
                                    "Color": "Yellow"
                                },
                                {
                                    "Name": "Touring-3000 Yellow, 54",
                                    "Color": "Yellow"
                                },
                                {
                                    "Name": "Touring-3000 Yellow, 58",
                                    "Color": "Yellow"
                                },
                                {
                                    "Name": "Touring-3000 Yellow, 62",
                                    "Color": "Yellow"
                                },
                                {
                                    "Name": "Road-350-W Yellow, 40",
                                    "Color": "Yellow"
                                },
                                {
                                    "Name": "Road-350-W Yellow, 42",
                                    "Color": "Yellow"
                                },
                                {
                                    "Name": "Road-350-W Yellow, 44",
                                    "Color": "Yellow"
                                },
                                {
                                    "Name": "Road-350-W Yellow, 48",
                                    "Color": "Yellow"
                                },
                                {
                                    "Name": "Road-750 Black, 58",
                                    "Color": "Black"
                                },
                                {
                                    "Name": "Mountain-400-W Silver, 38",
                                    "Color": "Silver"
                                },
                                {
                                    "Name": "Mountain-400-W Silver, 40",
                                    "Color": "Silver"
                                },
                                {
                                    "Name": "Mountain-400-W Silver, 42",
                                    "Color": "Silver"
                                },
                                {
                                    "Name": "Mountain-400-W Silver, 46",
                                    "Color": "Silver"
                                },
                                {
                                    "Name": "Mountain-500 Silver, 40",
                                    "Color": "Silver"
                                },
                                {
                                    "Name": "Mountain-500 Silver, 42",
                                    "Color": "Silver"
                                },
                                {
                                    "Name": "Mountain-500 Silver, 44",
                                    "Color": "Silver"
                                },
                                {
                                    "Name": "Mountain-500 Silver, 48",
                                    "Color": "Silver"
                                },
                                {
                                    "Name": "Mountain-500 Silver, 52",
                                    "Color": "Silver"
                                },
                                {
                                    "Name": "Mountain-500 Black, 40",
                                    "Color": "Black"
                                },
                                {
                                    "Name": "Mountain-500 Black, 42",
                                    "Color": "Black"
                                },
                                {
                                    "Name": "Mountain-500 Black, 44",
                                    "Color": "Black"
                                },
                                {
                                    "Name": "Mountain-500 Black, 48",
                                    "Color": "Black"
                                },
                                {
                                    "Name": "Mountain-500 Black, 52",
                                    "Color": "Black"
                                },
                                {
                                    "Name": "Road-750 Black, 44",
                                    "Color": "Black"
                                },
                                {
                                    "Name": "Road-750 Black, 48",
                                    "Color": "Black"
                                },
                                {
                                    "Name": "Road-750 Black, 52",
                                    "Color": "Black"
                                }
                            ]
                        },
                        "text/html": "<table><tr><th>Name</th><th>Color</th></tr><tr><td>LL Touring Frame - Yellow, 54</td><td>Yellow</td></tr><tr><td>LL Touring Frame - Yellow, 58</td><td>Yellow</td></tr><tr><td>ML Mountain Frame-W - Silver, 40</td><td>Silver</td></tr><tr><td>ML Mountain Frame-W - Silver, 42</td><td>Silver</td></tr><tr><td>ML Mountain Frame-W - Silver, 46</td><td>Silver</td></tr><tr><td>Rear Brakes</td><td>Silver</td></tr><tr><td>LL Mountain Frame - Silver, 42</td><td>Silver</td></tr><tr><td>LL Mountain Frame - Silver, 44</td><td>Silver</td></tr><tr><td>LL Mountain Frame - Silver, 48</td><td>Silver</td></tr><tr><td>LL Mountain Frame - Silver, 52</td><td>Silver</td></tr><tr><td>LL Mountain Frame - Black, 42</td><td>Black</td></tr><tr><td>LL Mountain Frame - Black, 44</td><td>Black</td></tr><tr><td>LL Mountain Frame - Black, 48</td><td>Black</td></tr><tr><td>LL Mountain Frame - Black, 52</td><td>Black</td></tr><tr><td>LL Mountain Pedal</td><td>Silver/Black</td></tr><tr><td>ML Mountain Pedal</td><td>Silver/Black</td></tr><tr><td>HL Mountain Pedal</td><td>Silver/Black</td></tr><tr><td>LL Road Pedal</td><td>Silver/Black</td></tr><tr><td>ML Road Pedal</td><td>Silver/Black</td></tr><tr><td>HL Road Pedal</td><td>Silver/Black</td></tr><tr><td>Touring Pedal</td><td>Silver/Black</td></tr><tr><td>ML Mountain Frame-W - Silver, 38</td><td>Silver</td></tr><tr><td>LL Mountain Frame - Black, 40</td><td>Black</td></tr><tr><td>LL Mountain Frame - Silver, 40</td><td>Silver</td></tr><tr><td>Front Derailleur</td><td>Silver</td></tr><tr><td>Front Brakes</td><td>Silver</td></tr><tr><td>LL Crankset</td><td>Black</td></tr><tr><td>ML Crankset</td><td>Black</td></tr><tr><td>HL Crankset</td><td>Black</td></tr><tr><td>Chain</td><td>Silver</td></tr><tr><td>Touring-1000 Yellow, 46</td><td>Yellow</td></tr><tr><td>Touring-1000 Yellow, 50</td><td>Yellow</td></tr><tr><td>Touring-1000 Yellow, 54</td><td>Yellow</td></tr><tr><td>Touring-1000 Yellow, 60</td><td>Yellow</td></tr><tr><td>Touring-3000 Yellow, 44</td><td>Yellow</td></tr><tr><td>Touring-3000 Yellow, 50</td><td>Yellow</td></tr><tr><td>Touring-3000 Yellow, 54</td><td>Yellow</td></tr><tr><td>Touring-3000 Yellow, 58</td><td>Yellow</td></tr><tr><td>Touring-3000 Yellow, 62</td><td>Yellow</td></tr><tr><td>Road-350-W Yellow, 40</td><td>Yellow</td></tr><tr><td>Road-350-W Yellow, 42</td><td>Yellow</td></tr><tr><td>Road-350-W Yellow, 44</td><td>Yellow</td></tr><tr><td>Road-350-W Yellow, 48</td><td>Yellow</td></tr><tr><td>Road-750 Black, 58</td><td>Black</td></tr><tr><td>Mountain-400-W Silver, 38</td><td>Silver</td></tr><tr><td>Mountain-400-W Silver, 40</td><td>Silver</td></tr><tr><td>Mountain-400-W Silver, 42</td><td>Silver</td></tr><tr><td>Mountain-400-W Silver, 46</td><td>Silver</td></tr><tr><td>Mountain-500 Silver, 40</td><td>Silver</td></tr><tr><td>Mountain-500 Silver, 42</td><td>Silver</td></tr><tr><td>Mountain-500 Silver, 44</td><td>Silver</td></tr><tr><td>Mountain-500 Silver, 48</td><td>Silver</td></tr><tr><td>Mountain-500 Silver, 52</td><td>Silver</td></tr><tr><td>Mountain-500 Black, 40</td><td>Black</td></tr><tr><td>Mountain-500 Black, 42</td><td>Black</td></tr><tr><td>Mountain-500 Black, 44</td><td>Black</td></tr><tr><td>Mountain-500 Black, 48</td><td>Black</td></tr><tr><td>Mountain-500 Black, 52</td><td>Black</td></tr><tr><td>Road-750 Black, 44</td><td>Black</td></tr><tr><td>Road-750 Black, 48</td><td>Black</td></tr><tr><td>Road-750 Black, 52</td><td>Black</td></tr></table>"
                    },
                    "metadata": {}
                }
            ],
            "execution_count": 3
        },
        {
            "cell_type": "markdown",
            "source": [
                "I added the NOT operator just after the AND operation to indicate that I want products that are not Blue or Green.\n",
                "\n",
                "For a complete list of all the different possibilities of a search condition, refer to [SQL Server Techinical Documentation](https://learn.microsoft.com/en-us/sql/t-sql/queries/search-condition-transact-sql?view=sql-server-ver16), and more information on logical operator precedence you can read this topic: [Operator Precedence (Transact-SQL)](https://learn.microsoft.com/en-us/sql/t-sql/language-elements/operator-precedence-transact-sql?view=sql-server-ver15)\n",
                "\n",
                "[](https://learn.microsoft.com/en-us/sql/t-sql/queries/search-condition-transact-sql?view=sql-server-ver16)[](https://learn.microsoft.com/en-us/sql/t-sql/queries/search-condition-transact-sql?view=sql-server-ver16)"
            ],
            "metadata": {
                "language": "sql",
                "azdata_cell_guid": "a632122c-0616-43c0-b7a2-a574414f3c9a"
            },
            "attachments": {}
        },
        {
            "cell_type": "markdown",
            "source": [
                "## **Business Cases**\n",
                "\n",
                "Now it is your turn to use the information I've shared to build your own basic SELECT statements. In this section, I will be providing you with a couple of exercises with which you can practice writing a SELECT statement to meet the business case described."
            ],
            "metadata": {
                "language": "sql",
                "azdata_cell_guid": "f649ba56-3225-4557-9c58-0a367e6aef09"
            },
            "attachments": {}
        },
        {
            "cell_type": "markdown",
            "source": [
                "## **Exercise #1**\n",
                "\n",
                "Assume you have been asked by the head of the Human Resources department to produce a list of all **_BusinessEntityID_** values for employes who have lots of sick leave and vacation hours. For this list, the Human Resources head tells you the definition of \"lots of leave\" is as follows: an employe must have a **_SickLeaveHours_** value greater than 68 and a **_VacationHours_** value greater than 98. You can find these columns along with the **_BusinessEntityID_** column in the **_HumanResources.Employee_** table. Write and teste your code against the **_AdevntureWorks2017_** database, When done, check your code against the answer in the section below."
            ],
            "metadata": {
                "language": "sql",
                "azdata_cell_guid": "e4b16947-2a0a-4a95-a827-798e0cb2d8bd"
            },
            "attachments": {}
        },
        {
            "cell_type": "markdown",
            "source": [
                "- **My solution**"
            ],
            "metadata": {
                "language": "sql",
                "azdata_cell_guid": "a492f70f-ea67-41c2-8fdf-5c2bcc06cbc8"
            },
            "attachments": {}
        },
        {
            "cell_type": "code",
            "source": [
                "SELECT  BusinessEntityID ,\n",
                "        SickLeaveHours ,\n",
                "        VacationHours\n",
                "FROM    AdventureWorks2017.HumanResources.Employee\n",
                "WHERE   SickLeaveHours > 68 AND VacationHours > 98\n",
                ""
            ],
            "metadata": {
                "language": "sql",
                "azdata_cell_guid": "1d434fbc-b9f3-443b-a368-c4efaf7971d0",
                "tags": []
            },
            "outputs": [
                {
                    "output_type": "display_data",
                    "data": {
                        "text/html": "(3 rows affected)"
                    },
                    "metadata": {}
                },
                {
                    "output_type": "display_data",
                    "data": {
                        "text/html": "Total execution time: 00:00:00.006"
                    },
                    "metadata": {}
                },
                {
                    "output_type": "execute_result",
                    "execution_count": 12,
                    "data": {
                        "application/vnd.dataresource+json": {
                            "schema": {
                                "fields": [
                                    {
                                        "name": "BusinessEntityID"
                                    },
                                    {
                                        "name": "SickLeaveHours"
                                    },
                                    {
                                        "name": "VacationHours"
                                    }
                                ]
                            },
                            "data": [
                                {
                                    "BusinessEntityID": "1",
                                    "SickLeaveHours": "69",
                                    "VacationHours": "99"
                                },
                                {
                                    "BusinessEntityID": "88",
                                    "SickLeaveHours": "69",
                                    "VacationHours": "99"
                                },
                                {
                                    "BusinessEntityID": "117",
                                    "SickLeaveHours": "69",
                                    "VacationHours": "99"
                                }
                            ]
                        },
                        "text/html": "<table><tr><th>BusinessEntityID</th><th>SickLeaveHours</th><th>VacationHours</th></tr><tr><td>1</td><td>69</td><td>99</td></tr><tr><td>88</td><td>69</td><td>99</td></tr><tr><td>117</td><td>69</td><td>99</td></tr></table>"
                    },
                    "metadata": {}
                }
            ],
            "execution_count": 12
        },
        {
            "cell_type": "markdown",
            "source": [
                "- **Answer**"
            ],
            "metadata": {
                "language": "sql",
                "azdata_cell_guid": "f6f04ebd-3102-48b5-ac86-7eae990d1651"
            },
            "attachments": {}
        },
        {
            "cell_type": "code",
            "source": [
                "SELECT  BusinessEntityID ,\n",
                "        SickLeaveHours ,\n",
                "        VacationHours\n",
                "FROM    AdventureWorks2017.HumanResources.Employee\n",
                "WHERE   SickLeaveHours > 68\n",
                "        AND VacationHours > 98 ;"
            ],
            "metadata": {
                "language": "sql",
                "azdata_cell_guid": "0340e6d3-b757-4771-a470-a99da2b151c8"
            },
            "outputs": [
                {
                    "output_type": "display_data",
                    "data": {
                        "text/html": "(3 rows affected)"
                    },
                    "metadata": {}
                },
                {
                    "output_type": "display_data",
                    "data": {
                        "text/html": "Total execution time: 00:00:00.011"
                    },
                    "metadata": {}
                },
                {
                    "output_type": "execute_result",
                    "execution_count": 9,
                    "data": {
                        "application/vnd.dataresource+json": {
                            "schema": {
                                "fields": [
                                    {
                                        "name": "BusinessEntityID"
                                    },
                                    {
                                        "name": "SickLeaveHours"
                                    },
                                    {
                                        "name": "VacationHours"
                                    }
                                ]
                            },
                            "data": [
                                {
                                    "BusinessEntityID": "1",
                                    "SickLeaveHours": "69",
                                    "VacationHours": "99"
                                },
                                {
                                    "BusinessEntityID": "88",
                                    "SickLeaveHours": "69",
                                    "VacationHours": "99"
                                },
                                {
                                    "BusinessEntityID": "117",
                                    "SickLeaveHours": "69",
                                    "VacationHours": "99"
                                }
                            ]
                        },
                        "text/html": "<table><tr><th>BusinessEntityID</th><th>SickLeaveHours</th><th>VacationHours</th></tr><tr><td>1</td><td>69</td><td>99</td></tr><tr><td>88</td><td>69</td><td>99</td></tr><tr><td>117</td><td>69</td><td>99</td></tr></table>"
                    },
                    "metadata": {}
                }
            ],
            "execution_count": 9
        },
        {
            "cell_type": "markdown",
            "source": [
                "## **Exercise #2**\n",
                "\n",
                "There are some questions your manager has about a few specific order numbers. Your manager wants you to produce a list of all the columns associated with a few specific orders so she can review which salesperson is associated with each order. Your manager specifies that she is only interested in a report that contains **_SalesOrderHeader_** rows for orders that have a **_SalesOrderId_** between 43702 and 43712. When you are done writing this SELECT statement, check you answer below."
            ],
            "metadata": {
                "language": "sql",
                "azdata_cell_guid": "c6f36ee8-804c-4347-afad-e89f5e19ad60"
            },
            "attachments": {}
        },
        {
            "cell_type": "markdown",
            "source": [
                "- **My solution**"
            ],
            "metadata": {
                "language": "sql",
                "azdata_cell_guid": "83fb00f4-851d-4004-af5a-b131bc60e591"
            },
            "attachments": {}
        },
        {
            "cell_type": "code",
            "source": [
                "SELECT [SalesOrderID]\n",
                "    , [RevisionNumber]\n",
                "    , [OrderDate]\n",
                "    , [DueDate]\n",
                "    , [ShipDate]\n",
                "    , [Status]\n",
                "    , [OnlineOrderFlag]\n",
                "    , [SalesOrderNumber]\n",
                "    , [PurchaseOrderNumber]\n",
                "    , [AccountNumber]\n",
                "    , [CustomerID]\n",
                "    , [SalesPersonID]\n",
                "    , [TerritoryID]\n",
                "    , [BillToAddressID]\n",
                "    , [ShipToAddressID]\n",
                "    , [ShipMethodID]\n",
                "    , [CreditCardID]\n",
                "    , [CreditCardApprovalCode]\n",
                "    , [CurrencyRateID]\n",
                "    , [SubTotal]\n",
                "    , [TaxAmt]\n",
                "    , [Freight]\n",
                "    , [TotalDue]\n",
                "    , [Comment]\n",
                "    , [rowguid]\n",
                "    , [ModifiedDate]\n",
                "FROM [AdventureWorks2017].[Sales].[SalesOrderHeader]\n",
                "WHERE SalesOrderID >= 43702\n",
                "AND SalesOrderID <= 43712 ;"
            ],
            "metadata": {
                "language": "sql",
                "azdata_cell_guid": "48d7b287-fa33-4c98-b12f-129251129035"
            },
            "outputs": [
                {
                    "output_type": "display_data",
                    "data": {
                        "text/html": "(11 rows affected)"
                    },
                    "metadata": {}
                },
                {
                    "output_type": "display_data",
                    "data": {
                        "text/html": "Total execution time: 00:00:00.012"
                    },
                    "metadata": {}
                },
                {
                    "output_type": "execute_result",
                    "execution_count": 25,
                    "data": {
                        "application/vnd.dataresource+json": {
                            "schema": {
                                "fields": [
                                    {
                                        "name": "SalesOrderID"
                                    },
                                    {
                                        "name": "RevisionNumber"
                                    },
                                    {
                                        "name": "OrderDate"
                                    },
                                    {
                                        "name": "DueDate"
                                    },
                                    {
                                        "name": "ShipDate"
                                    },
                                    {
                                        "name": "Status"
                                    },
                                    {
                                        "name": "OnlineOrderFlag"
                                    },
                                    {
                                        "name": "SalesOrderNumber"
                                    },
                                    {
                                        "name": "PurchaseOrderNumber"
                                    },
                                    {
                                        "name": "AccountNumber"
                                    },
                                    {
                                        "name": "CustomerID"
                                    },
                                    {
                                        "name": "SalesPersonID"
                                    },
                                    {
                                        "name": "TerritoryID"
                                    },
                                    {
                                        "name": "BillToAddressID"
                                    },
                                    {
                                        "name": "ShipToAddressID"
                                    },
                                    {
                                        "name": "ShipMethodID"
                                    },
                                    {
                                        "name": "CreditCardID"
                                    },
                                    {
                                        "name": "CreditCardApprovalCode"
                                    },
                                    {
                                        "name": "CurrencyRateID"
                                    },
                                    {
                                        "name": "SubTotal"
                                    },
                                    {
                                        "name": "TaxAmt"
                                    },
                                    {
                                        "name": "Freight"
                                    },
                                    {
                                        "name": "TotalDue"
                                    },
                                    {
                                        "name": "Comment"
                                    },
                                    {
                                        "name": "rowguid"
                                    },
                                    {
                                        "name": "ModifiedDate"
                                    }
                                ]
                            },
                            "data": [
                                {
                                    "SalesOrderID": "43702",
                                    "RevisionNumber": "8",
                                    "OrderDate": "2011-06-01 00:00:00.000",
                                    "DueDate": "2011-06-13 00:00:00.000",
                                    "ShipDate": "2011-06-08 00:00:00.000",
                                    "Status": "5",
                                    "OnlineOrderFlag": "1",
                                    "SalesOrderNumber": "SO43702",
                                    "PurchaseOrderNumber": "NULL",
                                    "AccountNumber": "10-4030-027645",
                                    "CustomerID": "27645",
                                    "SalesPersonID": "NULL",
                                    "TerritoryID": "4",
                                    "BillToAddressID": "22584",
                                    "ShipToAddressID": "22584",
                                    "ShipMethodID": "1",
                                    "CreditCardID": "8087",
                                    "CreditCardApprovalCode": "1230194Vi41919",
                                    "CurrencyRateID": "NULL",
                                    "SubTotal": "3578,27",
                                    "TaxAmt": "286,2616",
                                    "Freight": "89,4568",
                                    "TotalDue": "3953,9884",
                                    "Comment": "NULL",
                                    "rowguid": "9310c7f0-9a84-4ce9-be08-f700fb1aadf7",
                                    "ModifiedDate": "2011-06-08 00:00:00.000"
                                },
                                {
                                    "SalesOrderID": "43703",
                                    "RevisionNumber": "8",
                                    "OrderDate": "2011-06-01 00:00:00.000",
                                    "DueDate": "2011-06-13 00:00:00.000",
                                    "ShipDate": "2011-06-08 00:00:00.000",
                                    "Status": "5",
                                    "OnlineOrderFlag": "1",
                                    "SalesOrderNumber": "SO43703",
                                    "PurchaseOrderNumber": "NULL",
                                    "AccountNumber": "10-4030-016624",
                                    "CustomerID": "16624",
                                    "SalesPersonID": "NULL",
                                    "TerritoryID": "9",
                                    "BillToAddressID": "23967",
                                    "ShipToAddressID": "23967",
                                    "ShipMethodID": "1",
                                    "CreditCardID": "9497",
                                    "CreditCardApprovalCode": "1234632Vi48985",
                                    "CurrencyRateID": "15",
                                    "SubTotal": "3578,27",
                                    "TaxAmt": "286,2616",
                                    "Freight": "89,4568",
                                    "TotalDue": "3953,9884",
                                    "Comment": "NULL",
                                    "rowguid": "cc630723-57f1-4e59-b1ef-bf77930b3906",
                                    "ModifiedDate": "2011-06-08 00:00:00.000"
                                },
                                {
                                    "SalesOrderID": "43704",
                                    "RevisionNumber": "8",
                                    "OrderDate": "2011-06-01 00:00:00.000",
                                    "DueDate": "2011-06-13 00:00:00.000",
                                    "ShipDate": "2011-06-08 00:00:00.000",
                                    "Status": "5",
                                    "OnlineOrderFlag": "1",
                                    "SalesOrderNumber": "SO43704",
                                    "PurchaseOrderNumber": "NULL",
                                    "AccountNumber": "10-4030-011005",
                                    "CustomerID": "11005",
                                    "SalesPersonID": "NULL",
                                    "TerritoryID": "9",
                                    "BillToAddressID": "16025",
                                    "ShipToAddressID": "16025",
                                    "ShipMethodID": "1",
                                    "CreditCardID": "1988",
                                    "CreditCardApprovalCode": "835095Vi10342",
                                    "CurrencyRateID": "15",
                                    "SubTotal": "3374,99",
                                    "TaxAmt": "269,9992",
                                    "Freight": "84,3748",
                                    "TotalDue": "3729,364",
                                    "Comment": "NULL",
                                    "rowguid": "b09af2d1-243d-444f-9784-fcfceb3fbb0a",
                                    "ModifiedDate": "2011-06-08 00:00:00.000"
                                },
                                {
                                    "SalesOrderID": "43705",
                                    "RevisionNumber": "8",
                                    "OrderDate": "2011-06-01 00:00:00.000",
                                    "DueDate": "2011-06-13 00:00:00.000",
                                    "ShipDate": "2011-06-08 00:00:00.000",
                                    "Status": "5",
                                    "OnlineOrderFlag": "1",
                                    "SalesOrderNumber": "SO43705",
                                    "PurchaseOrderNumber": "NULL",
                                    "AccountNumber": "10-4030-011011",
                                    "CustomerID": "11011",
                                    "SalesPersonID": "NULL",
                                    "TerritoryID": "9",
                                    "BillToAddressID": "27345",
                                    "ShipToAddressID": "27345",
                                    "ShipMethodID": "1",
                                    "CreditCardID": "7205",
                                    "CreditCardApprovalCode": "1035101Vi37381",
                                    "CurrencyRateID": "15",
                                    "SubTotal": "3399,99",
                                    "TaxAmt": "271,9992",
                                    "Freight": "84,9998",
                                    "TotalDue": "3756,989",
                                    "Comment": "NULL",
                                    "rowguid": "17a0ede6-6f1a-419d-bcf9-3638b79166d0",
                                    "ModifiedDate": "2011-06-08 00:00:00.000"
                                },
                                {
                                    "SalesOrderID": "43706",
                                    "RevisionNumber": "8",
                                    "OrderDate": "2011-06-02 00:00:00.000",
                                    "DueDate": "2011-06-14 00:00:00.000",
                                    "ShipDate": "2011-06-09 00:00:00.000",
                                    "Status": "5",
                                    "OnlineOrderFlag": "1",
                                    "SalesOrderNumber": "SO43706",
                                    "PurchaseOrderNumber": "NULL",
                                    "AccountNumber": "10-4030-027621",
                                    "CustomerID": "27621",
                                    "SalesPersonID": "NULL",
                                    "TerritoryID": "4",
                                    "BillToAddressID": "13264",
                                    "ShipToAddressID": "13264",
                                    "ShipMethodID": "1",
                                    "CreditCardID": "10912",
                                    "CreditCardApprovalCode": "230189Vi56258",
                                    "CurrencyRateID": "NULL",
                                    "SubTotal": "3578,27",
                                    "TaxAmt": "286,2616",
                                    "Freight": "89,4568",
                                    "TotalDue": "3953,9884",
                                    "Comment": "NULL",
                                    "rowguid": "f02c4cb6-a5b5-4ce4-9473-cb084e383196",
                                    "ModifiedDate": "2011-06-09 00:00:00.000"
                                },
                                {
                                    "SalesOrderID": "43707",
                                    "RevisionNumber": "8",
                                    "OrderDate": "2011-06-02 00:00:00.000",
                                    "DueDate": "2011-06-14 00:00:00.000",
                                    "ShipDate": "2011-06-09 00:00:00.000",
                                    "Status": "5",
                                    "OnlineOrderFlag": "1",
                                    "SalesOrderNumber": "SO43707",
                                    "PurchaseOrderNumber": "NULL",
                                    "AccountNumber": "10-4030-027616",
                                    "CustomerID": "27616",
                                    "SalesPersonID": "NULL",
                                    "TerritoryID": "4",
                                    "BillToAddressID": "20923",
                                    "ShipToAddressID": "20923",
                                    "ShipMethodID": "1",
                                    "CreditCardID": "19069",
                                    "CreditCardApprovalCode": "230298Vi99064",
                                    "CurrencyRateID": "NULL",
                                    "SubTotal": "3578,27",
                                    "TaxAmt": "286,2616",
                                    "Freight": "89,4568",
                                    "TotalDue": "3953,9884",
                                    "Comment": "NULL",
                                    "rowguid": "0da77d6e-223e-4bc6-a2ed-43b387692c68",
                                    "ModifiedDate": "2011-06-09 00:00:00.000"
                                },
                                {
                                    "SalesOrderID": "43708",
                                    "RevisionNumber": "8",
                                    "OrderDate": "2011-06-02 00:00:00.000",
                                    "DueDate": "2011-06-14 00:00:00.000",
                                    "ShipDate": "2011-06-09 00:00:00.000",
                                    "Status": "5",
                                    "OnlineOrderFlag": "1",
                                    "SalesOrderNumber": "SO43708",
                                    "PurchaseOrderNumber": "NULL",
                                    "AccountNumber": "10-4030-020042",
                                    "CustomerID": "20042",
                                    "SalesPersonID": "NULL",
                                    "TerritoryID": "10",
                                    "BillToAddressID": "18427",
                                    "ShipToAddressID": "18427",
                                    "ShipMethodID": "1",
                                    "CreditCardID": "4369",
                                    "CreditCardApprovalCode": "130402Vi22912",
                                    "CurrencyRateID": "35",
                                    "SubTotal": "699,0982",
                                    "TaxAmt": "55,9279",
                                    "Freight": "17,4775",
                                    "TotalDue": "772,5036",
                                    "Comment": "NULL",
                                    "rowguid": "c9743a57-08a7-4494-a4bf-4b226c0b35ec",
                                    "ModifiedDate": "2011-06-09 00:00:00.000"
                                },
                                {
                                    "SalesOrderID": "43709",
                                    "RevisionNumber": "8",
                                    "OrderDate": "2011-06-02 00:00:00.000",
                                    "DueDate": "2011-06-14 00:00:00.000",
                                    "ShipDate": "2011-06-09 00:00:00.000",
                                    "Status": "5",
                                    "OnlineOrderFlag": "1",
                                    "SalesOrderNumber": "SO43709",
                                    "PurchaseOrderNumber": "NULL",
                                    "AccountNumber": "10-4030-016351",
                                    "CustomerID": "16351",
                                    "SalesPersonID": "NULL",
                                    "TerritoryID": "9",
                                    "BillToAddressID": "13951",
                                    "ShipToAddressID": "13951",
                                    "ShipMethodID": "1",
                                    "CreditCardID": "15524",
                                    "CreditCardApprovalCode": "1034602Vi80214",
                                    "CurrencyRateID": "28",
                                    "SubTotal": "3578,27",
                                    "TaxAmt": "286,2616",
                                    "Freight": "89,4568",
                                    "TotalDue": "3953,9884",
                                    "Comment": "NULL",
                                    "rowguid": "5aa25d99-4ca5-4c80-bbb7-3d97664e2a80",
                                    "ModifiedDate": "2011-06-09 00:00:00.000"
                                },
                                {
                                    "SalesOrderID": "43710",
                                    "RevisionNumber": "8",
                                    "OrderDate": "2011-06-02 00:00:00.000",
                                    "DueDate": "2011-06-14 00:00:00.000",
                                    "ShipDate": "2011-06-09 00:00:00.000",
                                    "Status": "5",
                                    "OnlineOrderFlag": "1",
                                    "SalesOrderNumber": "SO43710",
                                    "PurchaseOrderNumber": "NULL",
                                    "AccountNumber": "10-4030-016517",
                                    "CustomerID": "16517",
                                    "SalesPersonID": "NULL",
                                    "TerritoryID": "9",
                                    "BillToAddressID": "25446",
                                    "ShipToAddressID": "25446",
                                    "ShipMethodID": "1",
                                    "CreditCardID": "5764",
                                    "CreditCardApprovalCode": "1134614Vi30135",
                                    "CurrencyRateID": "28",
                                    "SubTotal": "3578,27",
                                    "TaxAmt": "286,2616",
                                    "Freight": "89,4568",
                                    "TotalDue": "3953,9884",
                                    "Comment": "NULL",
                                    "rowguid": "22220985-4182-4c6f-ae48-e920f72f6095",
                                    "ModifiedDate": "2011-06-09 00:00:00.000"
                                },
                                {
                                    "SalesOrderID": "43711",
                                    "RevisionNumber": "8",
                                    "OrderDate": "2011-06-03 00:00:00.000",
                                    "DueDate": "2011-06-15 00:00:00.000",
                                    "ShipDate": "2011-06-10 00:00:00.000",
                                    "Status": "5",
                                    "OnlineOrderFlag": "1",
                                    "SalesOrderNumber": "SO43711",
                                    "PurchaseOrderNumber": "NULL",
                                    "AccountNumber": "10-4030-027606",
                                    "CustomerID": "27606",
                                    "SalesPersonID": "NULL",
                                    "TerritoryID": "1",
                                    "BillToAddressID": "18404",
                                    "ShipToAddressID": "18404",
                                    "ShipMethodID": "1",
                                    "CreditCardID": "3043",
                                    "CreditCardApprovalCode": "430293Vi16007",
                                    "CurrencyRateID": "NULL",
                                    "SubTotal": "3578,27",
                                    "TaxAmt": "286,2616",
                                    "Freight": "89,4568",
                                    "TotalDue": "3953,9884",
                                    "Comment": "NULL",
                                    "rowguid": "c8651cc4-7bf4-4013-94b2-2ea9feaac442",
                                    "ModifiedDate": "2011-06-10 00:00:00.000"
                                },
                                {
                                    "SalesOrderID": "43712",
                                    "RevisionNumber": "8",
                                    "OrderDate": "2011-06-03 00:00:00.000",
                                    "DueDate": "2011-06-15 00:00:00.000",
                                    "ShipDate": "2011-06-10 00:00:00.000",
                                    "Status": "5",
                                    "OnlineOrderFlag": "1",
                                    "SalesOrderNumber": "SO43712",
                                    "PurchaseOrderNumber": "NULL",
                                    "AccountNumber": "10-4030-013513",
                                    "CustomerID": "13513",
                                    "SalesPersonID": "NULL",
                                    "TerritoryID": "8",
                                    "BillToAddressID": "21867",
                                    "ShipToAddressID": "21867",
                                    "ShipMethodID": "1",
                                    "CreditCardID": "6213",
                                    "CreditCardApprovalCode": "1231128Vi32292",
                                    "CurrencyRateID": "45",
                                    "SubTotal": "3578,27",
                                    "TaxAmt": "286,2616",
                                    "Freight": "89,4568",
                                    "TotalDue": "3953,9884",
                                    "Comment": "NULL",
                                    "rowguid": "725c5dfe-6eaa-43e3-9571-2b99692df51d",
                                    "ModifiedDate": "2011-06-10 00:00:00.000"
                                }
                            ]
                        },
                        "text/html": "<table><tr><th>SalesOrderID</th><th>RevisionNumber</th><th>OrderDate</th><th>DueDate</th><th>ShipDate</th><th>Status</th><th>OnlineOrderFlag</th><th>SalesOrderNumber</th><th>PurchaseOrderNumber</th><th>AccountNumber</th><th>CustomerID</th><th>SalesPersonID</th><th>TerritoryID</th><th>BillToAddressID</th><th>ShipToAddressID</th><th>ShipMethodID</th><th>CreditCardID</th><th>CreditCardApprovalCode</th><th>CurrencyRateID</th><th>SubTotal</th><th>TaxAmt</th><th>Freight</th><th>TotalDue</th><th>Comment</th><th>rowguid</th><th>ModifiedDate</th></tr><tr><td>43702</td><td>8</td><td>2011-06-01 00:00:00.000</td><td>2011-06-13 00:00:00.000</td><td>2011-06-08 00:00:00.000</td><td>5</td><td>1</td><td>SO43702</td><td>NULL</td><td>10-4030-027645</td><td>27645</td><td>NULL</td><td>4</td><td>22584</td><td>22584</td><td>1</td><td>8087</td><td>1230194Vi41919</td><td>NULL</td><td>3578,27</td><td>286,2616</td><td>89,4568</td><td>3953,9884</td><td>NULL</td><td>9310c7f0-9a84-4ce9-be08-f700fb1aadf7</td><td>2011-06-08 00:00:00.000</td></tr><tr><td>43703</td><td>8</td><td>2011-06-01 00:00:00.000</td><td>2011-06-13 00:00:00.000</td><td>2011-06-08 00:00:00.000</td><td>5</td><td>1</td><td>SO43703</td><td>NULL</td><td>10-4030-016624</td><td>16624</td><td>NULL</td><td>9</td><td>23967</td><td>23967</td><td>1</td><td>9497</td><td>1234632Vi48985</td><td>15</td><td>3578,27</td><td>286,2616</td><td>89,4568</td><td>3953,9884</td><td>NULL</td><td>cc630723-57f1-4e59-b1ef-bf77930b3906</td><td>2011-06-08 00:00:00.000</td></tr><tr><td>43704</td><td>8</td><td>2011-06-01 00:00:00.000</td><td>2011-06-13 00:00:00.000</td><td>2011-06-08 00:00:00.000</td><td>5</td><td>1</td><td>SO43704</td><td>NULL</td><td>10-4030-011005</td><td>11005</td><td>NULL</td><td>9</td><td>16025</td><td>16025</td><td>1</td><td>1988</td><td>835095Vi10342</td><td>15</td><td>3374,99</td><td>269,9992</td><td>84,3748</td><td>3729,364</td><td>NULL</td><td>b09af2d1-243d-444f-9784-fcfceb3fbb0a</td><td>2011-06-08 00:00:00.000</td></tr><tr><td>43705</td><td>8</td><td>2011-06-01 00:00:00.000</td><td>2011-06-13 00:00:00.000</td><td>2011-06-08 00:00:00.000</td><td>5</td><td>1</td><td>SO43705</td><td>NULL</td><td>10-4030-011011</td><td>11011</td><td>NULL</td><td>9</td><td>27345</td><td>27345</td><td>1</td><td>7205</td><td>1035101Vi37381</td><td>15</td><td>3399,99</td><td>271,9992</td><td>84,9998</td><td>3756,989</td><td>NULL</td><td>17a0ede6-6f1a-419d-bcf9-3638b79166d0</td><td>2011-06-08 00:00:00.000</td></tr><tr><td>43706</td><td>8</td><td>2011-06-02 00:00:00.000</td><td>2011-06-14 00:00:00.000</td><td>2011-06-09 00:00:00.000</td><td>5</td><td>1</td><td>SO43706</td><td>NULL</td><td>10-4030-027621</td><td>27621</td><td>NULL</td><td>4</td><td>13264</td><td>13264</td><td>1</td><td>10912</td><td>230189Vi56258</td><td>NULL</td><td>3578,27</td><td>286,2616</td><td>89,4568</td><td>3953,9884</td><td>NULL</td><td>f02c4cb6-a5b5-4ce4-9473-cb084e383196</td><td>2011-06-09 00:00:00.000</td></tr><tr><td>43707</td><td>8</td><td>2011-06-02 00:00:00.000</td><td>2011-06-14 00:00:00.000</td><td>2011-06-09 00:00:00.000</td><td>5</td><td>1</td><td>SO43707</td><td>NULL</td><td>10-4030-027616</td><td>27616</td><td>NULL</td><td>4</td><td>20923</td><td>20923</td><td>1</td><td>19069</td><td>230298Vi99064</td><td>NULL</td><td>3578,27</td><td>286,2616</td><td>89,4568</td><td>3953,9884</td><td>NULL</td><td>0da77d6e-223e-4bc6-a2ed-43b387692c68</td><td>2011-06-09 00:00:00.000</td></tr><tr><td>43708</td><td>8</td><td>2011-06-02 00:00:00.000</td><td>2011-06-14 00:00:00.000</td><td>2011-06-09 00:00:00.000</td><td>5</td><td>1</td><td>SO43708</td><td>NULL</td><td>10-4030-020042</td><td>20042</td><td>NULL</td><td>10</td><td>18427</td><td>18427</td><td>1</td><td>4369</td><td>130402Vi22912</td><td>35</td><td>699,0982</td><td>55,9279</td><td>17,4775</td><td>772,5036</td><td>NULL</td><td>c9743a57-08a7-4494-a4bf-4b226c0b35ec</td><td>2011-06-09 00:00:00.000</td></tr><tr><td>43709</td><td>8</td><td>2011-06-02 00:00:00.000</td><td>2011-06-14 00:00:00.000</td><td>2011-06-09 00:00:00.000</td><td>5</td><td>1</td><td>SO43709</td><td>NULL</td><td>10-4030-016351</td><td>16351</td><td>NULL</td><td>9</td><td>13951</td><td>13951</td><td>1</td><td>15524</td><td>1034602Vi80214</td><td>28</td><td>3578,27</td><td>286,2616</td><td>89,4568</td><td>3953,9884</td><td>NULL</td><td>5aa25d99-4ca5-4c80-bbb7-3d97664e2a80</td><td>2011-06-09 00:00:00.000</td></tr><tr><td>43710</td><td>8</td><td>2011-06-02 00:00:00.000</td><td>2011-06-14 00:00:00.000</td><td>2011-06-09 00:00:00.000</td><td>5</td><td>1</td><td>SO43710</td><td>NULL</td><td>10-4030-016517</td><td>16517</td><td>NULL</td><td>9</td><td>25446</td><td>25446</td><td>1</td><td>5764</td><td>1134614Vi30135</td><td>28</td><td>3578,27</td><td>286,2616</td><td>89,4568</td><td>3953,9884</td><td>NULL</td><td>22220985-4182-4c6f-ae48-e920f72f6095</td><td>2011-06-09 00:00:00.000</td></tr><tr><td>43711</td><td>8</td><td>2011-06-03 00:00:00.000</td><td>2011-06-15 00:00:00.000</td><td>2011-06-10 00:00:00.000</td><td>5</td><td>1</td><td>SO43711</td><td>NULL</td><td>10-4030-027606</td><td>27606</td><td>NULL</td><td>1</td><td>18404</td><td>18404</td><td>1</td><td>3043</td><td>430293Vi16007</td><td>NULL</td><td>3578,27</td><td>286,2616</td><td>89,4568</td><td>3953,9884</td><td>NULL</td><td>c8651cc4-7bf4-4013-94b2-2ea9feaac442</td><td>2011-06-10 00:00:00.000</td></tr><tr><td>43712</td><td>8</td><td>2011-06-03 00:00:00.000</td><td>2011-06-15 00:00:00.000</td><td>2011-06-10 00:00:00.000</td><td>5</td><td>1</td><td>SO43712</td><td>NULL</td><td>10-4030-013513</td><td>13513</td><td>NULL</td><td>8</td><td>21867</td><td>21867</td><td>1</td><td>6213</td><td>1231128Vi32292</td><td>45</td><td>3578,27</td><td>286,2616</td><td>89,4568</td><td>3953,9884</td><td>NULL</td><td>725c5dfe-6eaa-43e3-9571-2b99692df51d</td><td>2011-06-10 00:00:00.000</td></tr></table>"
                    },
                    "metadata": {}
                }
            ],
            "execution_count": 25
        },
        {
            "cell_type": "markdown",
            "source": [
                "- **Answer 1**"
            ],
            "metadata": {
                "language": "sql",
                "azdata_cell_guid": "3528446f-9290-40ed-aeb6-cbc7f7d6f6c4"
            },
            "attachments": {}
        },
        {
            "cell_type": "code",
            "source": [
                "SELECT *\n",
                "FROM Sales.SalesOrderHeader\n",
                "WHERE SalesOrderID BETWEEN 43702 AND 43712 ;"
            ],
            "metadata": {
                "language": "sql",
                "azdata_cell_guid": "79d9256e-d447-4570-b4dd-168b8ab27ee1"
            },
            "outputs": [
                {
                    "output_type": "display_data",
                    "data": {
                        "text/html": "(11 rows affected)"
                    },
                    "metadata": {}
                },
                {
                    "output_type": "display_data",
                    "data": {
                        "text/html": "Total execution time: 00:00:00.020"
                    },
                    "metadata": {}
                },
                {
                    "output_type": "execute_result",
                    "execution_count": 26,
                    "data": {
                        "application/vnd.dataresource+json": {
                            "schema": {
                                "fields": [
                                    {
                                        "name": "SalesOrderID"
                                    },
                                    {
                                        "name": "RevisionNumber"
                                    },
                                    {
                                        "name": "OrderDate"
                                    },
                                    {
                                        "name": "DueDate"
                                    },
                                    {
                                        "name": "ShipDate"
                                    },
                                    {
                                        "name": "Status"
                                    },
                                    {
                                        "name": "OnlineOrderFlag"
                                    },
                                    {
                                        "name": "SalesOrderNumber"
                                    },
                                    {
                                        "name": "PurchaseOrderNumber"
                                    },
                                    {
                                        "name": "AccountNumber"
                                    },
                                    {
                                        "name": "CustomerID"
                                    },
                                    {
                                        "name": "SalesPersonID"
                                    },
                                    {
                                        "name": "TerritoryID"
                                    },
                                    {
                                        "name": "BillToAddressID"
                                    },
                                    {
                                        "name": "ShipToAddressID"
                                    },
                                    {
                                        "name": "ShipMethodID"
                                    },
                                    {
                                        "name": "CreditCardID"
                                    },
                                    {
                                        "name": "CreditCardApprovalCode"
                                    },
                                    {
                                        "name": "CurrencyRateID"
                                    },
                                    {
                                        "name": "SubTotal"
                                    },
                                    {
                                        "name": "TaxAmt"
                                    },
                                    {
                                        "name": "Freight"
                                    },
                                    {
                                        "name": "TotalDue"
                                    },
                                    {
                                        "name": "Comment"
                                    },
                                    {
                                        "name": "rowguid"
                                    },
                                    {
                                        "name": "ModifiedDate"
                                    }
                                ]
                            },
                            "data": [
                                {
                                    "SalesOrderID": "43702",
                                    "RevisionNumber": "8",
                                    "OrderDate": "2011-06-01 00:00:00.000",
                                    "DueDate": "2011-06-13 00:00:00.000",
                                    "ShipDate": "2011-06-08 00:00:00.000",
                                    "Status": "5",
                                    "OnlineOrderFlag": "1",
                                    "SalesOrderNumber": "SO43702",
                                    "PurchaseOrderNumber": "NULL",
                                    "AccountNumber": "10-4030-027645",
                                    "CustomerID": "27645",
                                    "SalesPersonID": "NULL",
                                    "TerritoryID": "4",
                                    "BillToAddressID": "22584",
                                    "ShipToAddressID": "22584",
                                    "ShipMethodID": "1",
                                    "CreditCardID": "8087",
                                    "CreditCardApprovalCode": "1230194Vi41919",
                                    "CurrencyRateID": "NULL",
                                    "SubTotal": "3578,27",
                                    "TaxAmt": "286,2616",
                                    "Freight": "89,4568",
                                    "TotalDue": "3953,9884",
                                    "Comment": "NULL",
                                    "rowguid": "9310c7f0-9a84-4ce9-be08-f700fb1aadf7",
                                    "ModifiedDate": "2011-06-08 00:00:00.000"
                                },
                                {
                                    "SalesOrderID": "43703",
                                    "RevisionNumber": "8",
                                    "OrderDate": "2011-06-01 00:00:00.000",
                                    "DueDate": "2011-06-13 00:00:00.000",
                                    "ShipDate": "2011-06-08 00:00:00.000",
                                    "Status": "5",
                                    "OnlineOrderFlag": "1",
                                    "SalesOrderNumber": "SO43703",
                                    "PurchaseOrderNumber": "NULL",
                                    "AccountNumber": "10-4030-016624",
                                    "CustomerID": "16624",
                                    "SalesPersonID": "NULL",
                                    "TerritoryID": "9",
                                    "BillToAddressID": "23967",
                                    "ShipToAddressID": "23967",
                                    "ShipMethodID": "1",
                                    "CreditCardID": "9497",
                                    "CreditCardApprovalCode": "1234632Vi48985",
                                    "CurrencyRateID": "15",
                                    "SubTotal": "3578,27",
                                    "TaxAmt": "286,2616",
                                    "Freight": "89,4568",
                                    "TotalDue": "3953,9884",
                                    "Comment": "NULL",
                                    "rowguid": "cc630723-57f1-4e59-b1ef-bf77930b3906",
                                    "ModifiedDate": "2011-06-08 00:00:00.000"
                                },
                                {
                                    "SalesOrderID": "43704",
                                    "RevisionNumber": "8",
                                    "OrderDate": "2011-06-01 00:00:00.000",
                                    "DueDate": "2011-06-13 00:00:00.000",
                                    "ShipDate": "2011-06-08 00:00:00.000",
                                    "Status": "5",
                                    "OnlineOrderFlag": "1",
                                    "SalesOrderNumber": "SO43704",
                                    "PurchaseOrderNumber": "NULL",
                                    "AccountNumber": "10-4030-011005",
                                    "CustomerID": "11005",
                                    "SalesPersonID": "NULL",
                                    "TerritoryID": "9",
                                    "BillToAddressID": "16025",
                                    "ShipToAddressID": "16025",
                                    "ShipMethodID": "1",
                                    "CreditCardID": "1988",
                                    "CreditCardApprovalCode": "835095Vi10342",
                                    "CurrencyRateID": "15",
                                    "SubTotal": "3374,99",
                                    "TaxAmt": "269,9992",
                                    "Freight": "84,3748",
                                    "TotalDue": "3729,364",
                                    "Comment": "NULL",
                                    "rowguid": "b09af2d1-243d-444f-9784-fcfceb3fbb0a",
                                    "ModifiedDate": "2011-06-08 00:00:00.000"
                                },
                                {
                                    "SalesOrderID": "43705",
                                    "RevisionNumber": "8",
                                    "OrderDate": "2011-06-01 00:00:00.000",
                                    "DueDate": "2011-06-13 00:00:00.000",
                                    "ShipDate": "2011-06-08 00:00:00.000",
                                    "Status": "5",
                                    "OnlineOrderFlag": "1",
                                    "SalesOrderNumber": "SO43705",
                                    "PurchaseOrderNumber": "NULL",
                                    "AccountNumber": "10-4030-011011",
                                    "CustomerID": "11011",
                                    "SalesPersonID": "NULL",
                                    "TerritoryID": "9",
                                    "BillToAddressID": "27345",
                                    "ShipToAddressID": "27345",
                                    "ShipMethodID": "1",
                                    "CreditCardID": "7205",
                                    "CreditCardApprovalCode": "1035101Vi37381",
                                    "CurrencyRateID": "15",
                                    "SubTotal": "3399,99",
                                    "TaxAmt": "271,9992",
                                    "Freight": "84,9998",
                                    "TotalDue": "3756,989",
                                    "Comment": "NULL",
                                    "rowguid": "17a0ede6-6f1a-419d-bcf9-3638b79166d0",
                                    "ModifiedDate": "2011-06-08 00:00:00.000"
                                },
                                {
                                    "SalesOrderID": "43706",
                                    "RevisionNumber": "8",
                                    "OrderDate": "2011-06-02 00:00:00.000",
                                    "DueDate": "2011-06-14 00:00:00.000",
                                    "ShipDate": "2011-06-09 00:00:00.000",
                                    "Status": "5",
                                    "OnlineOrderFlag": "1",
                                    "SalesOrderNumber": "SO43706",
                                    "PurchaseOrderNumber": "NULL",
                                    "AccountNumber": "10-4030-027621",
                                    "CustomerID": "27621",
                                    "SalesPersonID": "NULL",
                                    "TerritoryID": "4",
                                    "BillToAddressID": "13264",
                                    "ShipToAddressID": "13264",
                                    "ShipMethodID": "1",
                                    "CreditCardID": "10912",
                                    "CreditCardApprovalCode": "230189Vi56258",
                                    "CurrencyRateID": "NULL",
                                    "SubTotal": "3578,27",
                                    "TaxAmt": "286,2616",
                                    "Freight": "89,4568",
                                    "TotalDue": "3953,9884",
                                    "Comment": "NULL",
                                    "rowguid": "f02c4cb6-a5b5-4ce4-9473-cb084e383196",
                                    "ModifiedDate": "2011-06-09 00:00:00.000"
                                },
                                {
                                    "SalesOrderID": "43707",
                                    "RevisionNumber": "8",
                                    "OrderDate": "2011-06-02 00:00:00.000",
                                    "DueDate": "2011-06-14 00:00:00.000",
                                    "ShipDate": "2011-06-09 00:00:00.000",
                                    "Status": "5",
                                    "OnlineOrderFlag": "1",
                                    "SalesOrderNumber": "SO43707",
                                    "PurchaseOrderNumber": "NULL",
                                    "AccountNumber": "10-4030-027616",
                                    "CustomerID": "27616",
                                    "SalesPersonID": "NULL",
                                    "TerritoryID": "4",
                                    "BillToAddressID": "20923",
                                    "ShipToAddressID": "20923",
                                    "ShipMethodID": "1",
                                    "CreditCardID": "19069",
                                    "CreditCardApprovalCode": "230298Vi99064",
                                    "CurrencyRateID": "NULL",
                                    "SubTotal": "3578,27",
                                    "TaxAmt": "286,2616",
                                    "Freight": "89,4568",
                                    "TotalDue": "3953,9884",
                                    "Comment": "NULL",
                                    "rowguid": "0da77d6e-223e-4bc6-a2ed-43b387692c68",
                                    "ModifiedDate": "2011-06-09 00:00:00.000"
                                },
                                {
                                    "SalesOrderID": "43708",
                                    "RevisionNumber": "8",
                                    "OrderDate": "2011-06-02 00:00:00.000",
                                    "DueDate": "2011-06-14 00:00:00.000",
                                    "ShipDate": "2011-06-09 00:00:00.000",
                                    "Status": "5",
                                    "OnlineOrderFlag": "1",
                                    "SalesOrderNumber": "SO43708",
                                    "PurchaseOrderNumber": "NULL",
                                    "AccountNumber": "10-4030-020042",
                                    "CustomerID": "20042",
                                    "SalesPersonID": "NULL",
                                    "TerritoryID": "10",
                                    "BillToAddressID": "18427",
                                    "ShipToAddressID": "18427",
                                    "ShipMethodID": "1",
                                    "CreditCardID": "4369",
                                    "CreditCardApprovalCode": "130402Vi22912",
                                    "CurrencyRateID": "35",
                                    "SubTotal": "699,0982",
                                    "TaxAmt": "55,9279",
                                    "Freight": "17,4775",
                                    "TotalDue": "772,5036",
                                    "Comment": "NULL",
                                    "rowguid": "c9743a57-08a7-4494-a4bf-4b226c0b35ec",
                                    "ModifiedDate": "2011-06-09 00:00:00.000"
                                },
                                {
                                    "SalesOrderID": "43709",
                                    "RevisionNumber": "8",
                                    "OrderDate": "2011-06-02 00:00:00.000",
                                    "DueDate": "2011-06-14 00:00:00.000",
                                    "ShipDate": "2011-06-09 00:00:00.000",
                                    "Status": "5",
                                    "OnlineOrderFlag": "1",
                                    "SalesOrderNumber": "SO43709",
                                    "PurchaseOrderNumber": "NULL",
                                    "AccountNumber": "10-4030-016351",
                                    "CustomerID": "16351",
                                    "SalesPersonID": "NULL",
                                    "TerritoryID": "9",
                                    "BillToAddressID": "13951",
                                    "ShipToAddressID": "13951",
                                    "ShipMethodID": "1",
                                    "CreditCardID": "15524",
                                    "CreditCardApprovalCode": "1034602Vi80214",
                                    "CurrencyRateID": "28",
                                    "SubTotal": "3578,27",
                                    "TaxAmt": "286,2616",
                                    "Freight": "89,4568",
                                    "TotalDue": "3953,9884",
                                    "Comment": "NULL",
                                    "rowguid": "5aa25d99-4ca5-4c80-bbb7-3d97664e2a80",
                                    "ModifiedDate": "2011-06-09 00:00:00.000"
                                },
                                {
                                    "SalesOrderID": "43710",
                                    "RevisionNumber": "8",
                                    "OrderDate": "2011-06-02 00:00:00.000",
                                    "DueDate": "2011-06-14 00:00:00.000",
                                    "ShipDate": "2011-06-09 00:00:00.000",
                                    "Status": "5",
                                    "OnlineOrderFlag": "1",
                                    "SalesOrderNumber": "SO43710",
                                    "PurchaseOrderNumber": "NULL",
                                    "AccountNumber": "10-4030-016517",
                                    "CustomerID": "16517",
                                    "SalesPersonID": "NULL",
                                    "TerritoryID": "9",
                                    "BillToAddressID": "25446",
                                    "ShipToAddressID": "25446",
                                    "ShipMethodID": "1",
                                    "CreditCardID": "5764",
                                    "CreditCardApprovalCode": "1134614Vi30135",
                                    "CurrencyRateID": "28",
                                    "SubTotal": "3578,27",
                                    "TaxAmt": "286,2616",
                                    "Freight": "89,4568",
                                    "TotalDue": "3953,9884",
                                    "Comment": "NULL",
                                    "rowguid": "22220985-4182-4c6f-ae48-e920f72f6095",
                                    "ModifiedDate": "2011-06-09 00:00:00.000"
                                },
                                {
                                    "SalesOrderID": "43711",
                                    "RevisionNumber": "8",
                                    "OrderDate": "2011-06-03 00:00:00.000",
                                    "DueDate": "2011-06-15 00:00:00.000",
                                    "ShipDate": "2011-06-10 00:00:00.000",
                                    "Status": "5",
                                    "OnlineOrderFlag": "1",
                                    "SalesOrderNumber": "SO43711",
                                    "PurchaseOrderNumber": "NULL",
                                    "AccountNumber": "10-4030-027606",
                                    "CustomerID": "27606",
                                    "SalesPersonID": "NULL",
                                    "TerritoryID": "1",
                                    "BillToAddressID": "18404",
                                    "ShipToAddressID": "18404",
                                    "ShipMethodID": "1",
                                    "CreditCardID": "3043",
                                    "CreditCardApprovalCode": "430293Vi16007",
                                    "CurrencyRateID": "NULL",
                                    "SubTotal": "3578,27",
                                    "TaxAmt": "286,2616",
                                    "Freight": "89,4568",
                                    "TotalDue": "3953,9884",
                                    "Comment": "NULL",
                                    "rowguid": "c8651cc4-7bf4-4013-94b2-2ea9feaac442",
                                    "ModifiedDate": "2011-06-10 00:00:00.000"
                                },
                                {
                                    "SalesOrderID": "43712",
                                    "RevisionNumber": "8",
                                    "OrderDate": "2011-06-03 00:00:00.000",
                                    "DueDate": "2011-06-15 00:00:00.000",
                                    "ShipDate": "2011-06-10 00:00:00.000",
                                    "Status": "5",
                                    "OnlineOrderFlag": "1",
                                    "SalesOrderNumber": "SO43712",
                                    "PurchaseOrderNumber": "NULL",
                                    "AccountNumber": "10-4030-013513",
                                    "CustomerID": "13513",
                                    "SalesPersonID": "NULL",
                                    "TerritoryID": "8",
                                    "BillToAddressID": "21867",
                                    "ShipToAddressID": "21867",
                                    "ShipMethodID": "1",
                                    "CreditCardID": "6213",
                                    "CreditCardApprovalCode": "1231128Vi32292",
                                    "CurrencyRateID": "45",
                                    "SubTotal": "3578,27",
                                    "TaxAmt": "286,2616",
                                    "Freight": "89,4568",
                                    "TotalDue": "3953,9884",
                                    "Comment": "NULL",
                                    "rowguid": "725c5dfe-6eaa-43e3-9571-2b99692df51d",
                                    "ModifiedDate": "2011-06-10 00:00:00.000"
                                }
                            ]
                        },
                        "text/html": "<table><tr><th>SalesOrderID</th><th>RevisionNumber</th><th>OrderDate</th><th>DueDate</th><th>ShipDate</th><th>Status</th><th>OnlineOrderFlag</th><th>SalesOrderNumber</th><th>PurchaseOrderNumber</th><th>AccountNumber</th><th>CustomerID</th><th>SalesPersonID</th><th>TerritoryID</th><th>BillToAddressID</th><th>ShipToAddressID</th><th>ShipMethodID</th><th>CreditCardID</th><th>CreditCardApprovalCode</th><th>CurrencyRateID</th><th>SubTotal</th><th>TaxAmt</th><th>Freight</th><th>TotalDue</th><th>Comment</th><th>rowguid</th><th>ModifiedDate</th></tr><tr><td>43702</td><td>8</td><td>2011-06-01 00:00:00.000</td><td>2011-06-13 00:00:00.000</td><td>2011-06-08 00:00:00.000</td><td>5</td><td>1</td><td>SO43702</td><td>NULL</td><td>10-4030-027645</td><td>27645</td><td>NULL</td><td>4</td><td>22584</td><td>22584</td><td>1</td><td>8087</td><td>1230194Vi41919</td><td>NULL</td><td>3578,27</td><td>286,2616</td><td>89,4568</td><td>3953,9884</td><td>NULL</td><td>9310c7f0-9a84-4ce9-be08-f700fb1aadf7</td><td>2011-06-08 00:00:00.000</td></tr><tr><td>43703</td><td>8</td><td>2011-06-01 00:00:00.000</td><td>2011-06-13 00:00:00.000</td><td>2011-06-08 00:00:00.000</td><td>5</td><td>1</td><td>SO43703</td><td>NULL</td><td>10-4030-016624</td><td>16624</td><td>NULL</td><td>9</td><td>23967</td><td>23967</td><td>1</td><td>9497</td><td>1234632Vi48985</td><td>15</td><td>3578,27</td><td>286,2616</td><td>89,4568</td><td>3953,9884</td><td>NULL</td><td>cc630723-57f1-4e59-b1ef-bf77930b3906</td><td>2011-06-08 00:00:00.000</td></tr><tr><td>43704</td><td>8</td><td>2011-06-01 00:00:00.000</td><td>2011-06-13 00:00:00.000</td><td>2011-06-08 00:00:00.000</td><td>5</td><td>1</td><td>SO43704</td><td>NULL</td><td>10-4030-011005</td><td>11005</td><td>NULL</td><td>9</td><td>16025</td><td>16025</td><td>1</td><td>1988</td><td>835095Vi10342</td><td>15</td><td>3374,99</td><td>269,9992</td><td>84,3748</td><td>3729,364</td><td>NULL</td><td>b09af2d1-243d-444f-9784-fcfceb3fbb0a</td><td>2011-06-08 00:00:00.000</td></tr><tr><td>43705</td><td>8</td><td>2011-06-01 00:00:00.000</td><td>2011-06-13 00:00:00.000</td><td>2011-06-08 00:00:00.000</td><td>5</td><td>1</td><td>SO43705</td><td>NULL</td><td>10-4030-011011</td><td>11011</td><td>NULL</td><td>9</td><td>27345</td><td>27345</td><td>1</td><td>7205</td><td>1035101Vi37381</td><td>15</td><td>3399,99</td><td>271,9992</td><td>84,9998</td><td>3756,989</td><td>NULL</td><td>17a0ede6-6f1a-419d-bcf9-3638b79166d0</td><td>2011-06-08 00:00:00.000</td></tr><tr><td>43706</td><td>8</td><td>2011-06-02 00:00:00.000</td><td>2011-06-14 00:00:00.000</td><td>2011-06-09 00:00:00.000</td><td>5</td><td>1</td><td>SO43706</td><td>NULL</td><td>10-4030-027621</td><td>27621</td><td>NULL</td><td>4</td><td>13264</td><td>13264</td><td>1</td><td>10912</td><td>230189Vi56258</td><td>NULL</td><td>3578,27</td><td>286,2616</td><td>89,4568</td><td>3953,9884</td><td>NULL</td><td>f02c4cb6-a5b5-4ce4-9473-cb084e383196</td><td>2011-06-09 00:00:00.000</td></tr><tr><td>43707</td><td>8</td><td>2011-06-02 00:00:00.000</td><td>2011-06-14 00:00:00.000</td><td>2011-06-09 00:00:00.000</td><td>5</td><td>1</td><td>SO43707</td><td>NULL</td><td>10-4030-027616</td><td>27616</td><td>NULL</td><td>4</td><td>20923</td><td>20923</td><td>1</td><td>19069</td><td>230298Vi99064</td><td>NULL</td><td>3578,27</td><td>286,2616</td><td>89,4568</td><td>3953,9884</td><td>NULL</td><td>0da77d6e-223e-4bc6-a2ed-43b387692c68</td><td>2011-06-09 00:00:00.000</td></tr><tr><td>43708</td><td>8</td><td>2011-06-02 00:00:00.000</td><td>2011-06-14 00:00:00.000</td><td>2011-06-09 00:00:00.000</td><td>5</td><td>1</td><td>SO43708</td><td>NULL</td><td>10-4030-020042</td><td>20042</td><td>NULL</td><td>10</td><td>18427</td><td>18427</td><td>1</td><td>4369</td><td>130402Vi22912</td><td>35</td><td>699,0982</td><td>55,9279</td><td>17,4775</td><td>772,5036</td><td>NULL</td><td>c9743a57-08a7-4494-a4bf-4b226c0b35ec</td><td>2011-06-09 00:00:00.000</td></tr><tr><td>43709</td><td>8</td><td>2011-06-02 00:00:00.000</td><td>2011-06-14 00:00:00.000</td><td>2011-06-09 00:00:00.000</td><td>5</td><td>1</td><td>SO43709</td><td>NULL</td><td>10-4030-016351</td><td>16351</td><td>NULL</td><td>9</td><td>13951</td><td>13951</td><td>1</td><td>15524</td><td>1034602Vi80214</td><td>28</td><td>3578,27</td><td>286,2616</td><td>89,4568</td><td>3953,9884</td><td>NULL</td><td>5aa25d99-4ca5-4c80-bbb7-3d97664e2a80</td><td>2011-06-09 00:00:00.000</td></tr><tr><td>43710</td><td>8</td><td>2011-06-02 00:00:00.000</td><td>2011-06-14 00:00:00.000</td><td>2011-06-09 00:00:00.000</td><td>5</td><td>1</td><td>SO43710</td><td>NULL</td><td>10-4030-016517</td><td>16517</td><td>NULL</td><td>9</td><td>25446</td><td>25446</td><td>1</td><td>5764</td><td>1134614Vi30135</td><td>28</td><td>3578,27</td><td>286,2616</td><td>89,4568</td><td>3953,9884</td><td>NULL</td><td>22220985-4182-4c6f-ae48-e920f72f6095</td><td>2011-06-09 00:00:00.000</td></tr><tr><td>43711</td><td>8</td><td>2011-06-03 00:00:00.000</td><td>2011-06-15 00:00:00.000</td><td>2011-06-10 00:00:00.000</td><td>5</td><td>1</td><td>SO43711</td><td>NULL</td><td>10-4030-027606</td><td>27606</td><td>NULL</td><td>1</td><td>18404</td><td>18404</td><td>1</td><td>3043</td><td>430293Vi16007</td><td>NULL</td><td>3578,27</td><td>286,2616</td><td>89,4568</td><td>3953,9884</td><td>NULL</td><td>c8651cc4-7bf4-4013-94b2-2ea9feaac442</td><td>2011-06-10 00:00:00.000</td></tr><tr><td>43712</td><td>8</td><td>2011-06-03 00:00:00.000</td><td>2011-06-15 00:00:00.000</td><td>2011-06-10 00:00:00.000</td><td>5</td><td>1</td><td>SO43712</td><td>NULL</td><td>10-4030-013513</td><td>13513</td><td>NULL</td><td>8</td><td>21867</td><td>21867</td><td>1</td><td>6213</td><td>1231128Vi32292</td><td>45</td><td>3578,27</td><td>286,2616</td><td>89,4568</td><td>3953,9884</td><td>NULL</td><td>725c5dfe-6eaa-43e3-9571-2b99692df51d</td><td>2011-06-10 00:00:00.000</td></tr></table>"
                    },
                    "metadata": {}
                }
            ],
            "execution_count": 26
        },
        {
            "cell_type": "markdown",
            "source": [
                "- **Answer 2**"
            ],
            "metadata": {
                "language": "sql",
                "azdata_cell_guid": "486f84ed-9693-4131-b023-155b744fd31e"
            },
            "attachments": {}
        },
        {
            "cell_type": "code",
            "source": [
                "SELECT SalesOrderID ,\n",
                "RevisionNumber ,\n",
                "OrderDate ,\n",
                "DueDate ,\n",
                "ShipDate ,\n",
                "Status ,\n",
                "OnlineOrderFlag ,\n",
                "SalesOrderNumber ,\n",
                "PurchaseOrderNumber ,\n",
                "AccountNumber ,\n",
                "CustomerID ,\n",
                "SalesPersonID ,\n",
                "TerritoryID ,\n",
                "BillToAddressID ,\n",
                "ShipToAddressID ,\n",
                "ShipMethodID ,\n",
                "CreditCardID ,\n",
                "CreditCardApprovalCode ,\n",
                "CurrencyRateID ,\n",
                "SubTotal ,\n",
                "TaxAmt ,\n",
                "Freight ,\n",
                "TotalDue ,\n",
                "Comment ,\n",
                "rowguid ,\n",
                "ModifiedDate\n",
                "FROM Sales.SalesOrderHeader\n",
                "WHERE SalesOrderID >= 43702\n",
                "AND SalesOrderID <= 43712 ;"
            ],
            "metadata": {
                "language": "sql",
                "azdata_cell_guid": "c139fdf9-bcf3-462e-a329-5f119cb10cc4"
            },
            "outputs": [
                {
                    "output_type": "display_data",
                    "data": {
                        "text/html": "(11 rows affected)"
                    },
                    "metadata": {}
                },
                {
                    "output_type": "display_data",
                    "data": {
                        "text/html": "Total execution time: 00:00:00.025"
                    },
                    "metadata": {}
                },
                {
                    "output_type": "execute_result",
                    "execution_count": 27,
                    "data": {
                        "application/vnd.dataresource+json": {
                            "schema": {
                                "fields": [
                                    {
                                        "name": "SalesOrderID"
                                    },
                                    {
                                        "name": "RevisionNumber"
                                    },
                                    {
                                        "name": "OrderDate"
                                    },
                                    {
                                        "name": "DueDate"
                                    },
                                    {
                                        "name": "ShipDate"
                                    },
                                    {
                                        "name": "Status"
                                    },
                                    {
                                        "name": "OnlineOrderFlag"
                                    },
                                    {
                                        "name": "SalesOrderNumber"
                                    },
                                    {
                                        "name": "PurchaseOrderNumber"
                                    },
                                    {
                                        "name": "AccountNumber"
                                    },
                                    {
                                        "name": "CustomerID"
                                    },
                                    {
                                        "name": "SalesPersonID"
                                    },
                                    {
                                        "name": "TerritoryID"
                                    },
                                    {
                                        "name": "BillToAddressID"
                                    },
                                    {
                                        "name": "ShipToAddressID"
                                    },
                                    {
                                        "name": "ShipMethodID"
                                    },
                                    {
                                        "name": "CreditCardID"
                                    },
                                    {
                                        "name": "CreditCardApprovalCode"
                                    },
                                    {
                                        "name": "CurrencyRateID"
                                    },
                                    {
                                        "name": "SubTotal"
                                    },
                                    {
                                        "name": "TaxAmt"
                                    },
                                    {
                                        "name": "Freight"
                                    },
                                    {
                                        "name": "TotalDue"
                                    },
                                    {
                                        "name": "Comment"
                                    },
                                    {
                                        "name": "rowguid"
                                    },
                                    {
                                        "name": "ModifiedDate"
                                    }
                                ]
                            },
                            "data": [
                                {
                                    "SalesOrderID": "43702",
                                    "RevisionNumber": "8",
                                    "OrderDate": "2011-06-01 00:00:00.000",
                                    "DueDate": "2011-06-13 00:00:00.000",
                                    "ShipDate": "2011-06-08 00:00:00.000",
                                    "Status": "5",
                                    "OnlineOrderFlag": "1",
                                    "SalesOrderNumber": "SO43702",
                                    "PurchaseOrderNumber": "NULL",
                                    "AccountNumber": "10-4030-027645",
                                    "CustomerID": "27645",
                                    "SalesPersonID": "NULL",
                                    "TerritoryID": "4",
                                    "BillToAddressID": "22584",
                                    "ShipToAddressID": "22584",
                                    "ShipMethodID": "1",
                                    "CreditCardID": "8087",
                                    "CreditCardApprovalCode": "1230194Vi41919",
                                    "CurrencyRateID": "NULL",
                                    "SubTotal": "3578,27",
                                    "TaxAmt": "286,2616",
                                    "Freight": "89,4568",
                                    "TotalDue": "3953,9884",
                                    "Comment": "NULL",
                                    "rowguid": "9310c7f0-9a84-4ce9-be08-f700fb1aadf7",
                                    "ModifiedDate": "2011-06-08 00:00:00.000"
                                },
                                {
                                    "SalesOrderID": "43703",
                                    "RevisionNumber": "8",
                                    "OrderDate": "2011-06-01 00:00:00.000",
                                    "DueDate": "2011-06-13 00:00:00.000",
                                    "ShipDate": "2011-06-08 00:00:00.000",
                                    "Status": "5",
                                    "OnlineOrderFlag": "1",
                                    "SalesOrderNumber": "SO43703",
                                    "PurchaseOrderNumber": "NULL",
                                    "AccountNumber": "10-4030-016624",
                                    "CustomerID": "16624",
                                    "SalesPersonID": "NULL",
                                    "TerritoryID": "9",
                                    "BillToAddressID": "23967",
                                    "ShipToAddressID": "23967",
                                    "ShipMethodID": "1",
                                    "CreditCardID": "9497",
                                    "CreditCardApprovalCode": "1234632Vi48985",
                                    "CurrencyRateID": "15",
                                    "SubTotal": "3578,27",
                                    "TaxAmt": "286,2616",
                                    "Freight": "89,4568",
                                    "TotalDue": "3953,9884",
                                    "Comment": "NULL",
                                    "rowguid": "cc630723-57f1-4e59-b1ef-bf77930b3906",
                                    "ModifiedDate": "2011-06-08 00:00:00.000"
                                },
                                {
                                    "SalesOrderID": "43704",
                                    "RevisionNumber": "8",
                                    "OrderDate": "2011-06-01 00:00:00.000",
                                    "DueDate": "2011-06-13 00:00:00.000",
                                    "ShipDate": "2011-06-08 00:00:00.000",
                                    "Status": "5",
                                    "OnlineOrderFlag": "1",
                                    "SalesOrderNumber": "SO43704",
                                    "PurchaseOrderNumber": "NULL",
                                    "AccountNumber": "10-4030-011005",
                                    "CustomerID": "11005",
                                    "SalesPersonID": "NULL",
                                    "TerritoryID": "9",
                                    "BillToAddressID": "16025",
                                    "ShipToAddressID": "16025",
                                    "ShipMethodID": "1",
                                    "CreditCardID": "1988",
                                    "CreditCardApprovalCode": "835095Vi10342",
                                    "CurrencyRateID": "15",
                                    "SubTotal": "3374,99",
                                    "TaxAmt": "269,9992",
                                    "Freight": "84,3748",
                                    "TotalDue": "3729,364",
                                    "Comment": "NULL",
                                    "rowguid": "b09af2d1-243d-444f-9784-fcfceb3fbb0a",
                                    "ModifiedDate": "2011-06-08 00:00:00.000"
                                },
                                {
                                    "SalesOrderID": "43705",
                                    "RevisionNumber": "8",
                                    "OrderDate": "2011-06-01 00:00:00.000",
                                    "DueDate": "2011-06-13 00:00:00.000",
                                    "ShipDate": "2011-06-08 00:00:00.000",
                                    "Status": "5",
                                    "OnlineOrderFlag": "1",
                                    "SalesOrderNumber": "SO43705",
                                    "PurchaseOrderNumber": "NULL",
                                    "AccountNumber": "10-4030-011011",
                                    "CustomerID": "11011",
                                    "SalesPersonID": "NULL",
                                    "TerritoryID": "9",
                                    "BillToAddressID": "27345",
                                    "ShipToAddressID": "27345",
                                    "ShipMethodID": "1",
                                    "CreditCardID": "7205",
                                    "CreditCardApprovalCode": "1035101Vi37381",
                                    "CurrencyRateID": "15",
                                    "SubTotal": "3399,99",
                                    "TaxAmt": "271,9992",
                                    "Freight": "84,9998",
                                    "TotalDue": "3756,989",
                                    "Comment": "NULL",
                                    "rowguid": "17a0ede6-6f1a-419d-bcf9-3638b79166d0",
                                    "ModifiedDate": "2011-06-08 00:00:00.000"
                                },
                                {
                                    "SalesOrderID": "43706",
                                    "RevisionNumber": "8",
                                    "OrderDate": "2011-06-02 00:00:00.000",
                                    "DueDate": "2011-06-14 00:00:00.000",
                                    "ShipDate": "2011-06-09 00:00:00.000",
                                    "Status": "5",
                                    "OnlineOrderFlag": "1",
                                    "SalesOrderNumber": "SO43706",
                                    "PurchaseOrderNumber": "NULL",
                                    "AccountNumber": "10-4030-027621",
                                    "CustomerID": "27621",
                                    "SalesPersonID": "NULL",
                                    "TerritoryID": "4",
                                    "BillToAddressID": "13264",
                                    "ShipToAddressID": "13264",
                                    "ShipMethodID": "1",
                                    "CreditCardID": "10912",
                                    "CreditCardApprovalCode": "230189Vi56258",
                                    "CurrencyRateID": "NULL",
                                    "SubTotal": "3578,27",
                                    "TaxAmt": "286,2616",
                                    "Freight": "89,4568",
                                    "TotalDue": "3953,9884",
                                    "Comment": "NULL",
                                    "rowguid": "f02c4cb6-a5b5-4ce4-9473-cb084e383196",
                                    "ModifiedDate": "2011-06-09 00:00:00.000"
                                },
                                {
                                    "SalesOrderID": "43707",
                                    "RevisionNumber": "8",
                                    "OrderDate": "2011-06-02 00:00:00.000",
                                    "DueDate": "2011-06-14 00:00:00.000",
                                    "ShipDate": "2011-06-09 00:00:00.000",
                                    "Status": "5",
                                    "OnlineOrderFlag": "1",
                                    "SalesOrderNumber": "SO43707",
                                    "PurchaseOrderNumber": "NULL",
                                    "AccountNumber": "10-4030-027616",
                                    "CustomerID": "27616",
                                    "SalesPersonID": "NULL",
                                    "TerritoryID": "4",
                                    "BillToAddressID": "20923",
                                    "ShipToAddressID": "20923",
                                    "ShipMethodID": "1",
                                    "CreditCardID": "19069",
                                    "CreditCardApprovalCode": "230298Vi99064",
                                    "CurrencyRateID": "NULL",
                                    "SubTotal": "3578,27",
                                    "TaxAmt": "286,2616",
                                    "Freight": "89,4568",
                                    "TotalDue": "3953,9884",
                                    "Comment": "NULL",
                                    "rowguid": "0da77d6e-223e-4bc6-a2ed-43b387692c68",
                                    "ModifiedDate": "2011-06-09 00:00:00.000"
                                },
                                {
                                    "SalesOrderID": "43708",
                                    "RevisionNumber": "8",
                                    "OrderDate": "2011-06-02 00:00:00.000",
                                    "DueDate": "2011-06-14 00:00:00.000",
                                    "ShipDate": "2011-06-09 00:00:00.000",
                                    "Status": "5",
                                    "OnlineOrderFlag": "1",
                                    "SalesOrderNumber": "SO43708",
                                    "PurchaseOrderNumber": "NULL",
                                    "AccountNumber": "10-4030-020042",
                                    "CustomerID": "20042",
                                    "SalesPersonID": "NULL",
                                    "TerritoryID": "10",
                                    "BillToAddressID": "18427",
                                    "ShipToAddressID": "18427",
                                    "ShipMethodID": "1",
                                    "CreditCardID": "4369",
                                    "CreditCardApprovalCode": "130402Vi22912",
                                    "CurrencyRateID": "35",
                                    "SubTotal": "699,0982",
                                    "TaxAmt": "55,9279",
                                    "Freight": "17,4775",
                                    "TotalDue": "772,5036",
                                    "Comment": "NULL",
                                    "rowguid": "c9743a57-08a7-4494-a4bf-4b226c0b35ec",
                                    "ModifiedDate": "2011-06-09 00:00:00.000"
                                },
                                {
                                    "SalesOrderID": "43709",
                                    "RevisionNumber": "8",
                                    "OrderDate": "2011-06-02 00:00:00.000",
                                    "DueDate": "2011-06-14 00:00:00.000",
                                    "ShipDate": "2011-06-09 00:00:00.000",
                                    "Status": "5",
                                    "OnlineOrderFlag": "1",
                                    "SalesOrderNumber": "SO43709",
                                    "PurchaseOrderNumber": "NULL",
                                    "AccountNumber": "10-4030-016351",
                                    "CustomerID": "16351",
                                    "SalesPersonID": "NULL",
                                    "TerritoryID": "9",
                                    "BillToAddressID": "13951",
                                    "ShipToAddressID": "13951",
                                    "ShipMethodID": "1",
                                    "CreditCardID": "15524",
                                    "CreditCardApprovalCode": "1034602Vi80214",
                                    "CurrencyRateID": "28",
                                    "SubTotal": "3578,27",
                                    "TaxAmt": "286,2616",
                                    "Freight": "89,4568",
                                    "TotalDue": "3953,9884",
                                    "Comment": "NULL",
                                    "rowguid": "5aa25d99-4ca5-4c80-bbb7-3d97664e2a80",
                                    "ModifiedDate": "2011-06-09 00:00:00.000"
                                },
                                {
                                    "SalesOrderID": "43710",
                                    "RevisionNumber": "8",
                                    "OrderDate": "2011-06-02 00:00:00.000",
                                    "DueDate": "2011-06-14 00:00:00.000",
                                    "ShipDate": "2011-06-09 00:00:00.000",
                                    "Status": "5",
                                    "OnlineOrderFlag": "1",
                                    "SalesOrderNumber": "SO43710",
                                    "PurchaseOrderNumber": "NULL",
                                    "AccountNumber": "10-4030-016517",
                                    "CustomerID": "16517",
                                    "SalesPersonID": "NULL",
                                    "TerritoryID": "9",
                                    "BillToAddressID": "25446",
                                    "ShipToAddressID": "25446",
                                    "ShipMethodID": "1",
                                    "CreditCardID": "5764",
                                    "CreditCardApprovalCode": "1134614Vi30135",
                                    "CurrencyRateID": "28",
                                    "SubTotal": "3578,27",
                                    "TaxAmt": "286,2616",
                                    "Freight": "89,4568",
                                    "TotalDue": "3953,9884",
                                    "Comment": "NULL",
                                    "rowguid": "22220985-4182-4c6f-ae48-e920f72f6095",
                                    "ModifiedDate": "2011-06-09 00:00:00.000"
                                },
                                {
                                    "SalesOrderID": "43711",
                                    "RevisionNumber": "8",
                                    "OrderDate": "2011-06-03 00:00:00.000",
                                    "DueDate": "2011-06-15 00:00:00.000",
                                    "ShipDate": "2011-06-10 00:00:00.000",
                                    "Status": "5",
                                    "OnlineOrderFlag": "1",
                                    "SalesOrderNumber": "SO43711",
                                    "PurchaseOrderNumber": "NULL",
                                    "AccountNumber": "10-4030-027606",
                                    "CustomerID": "27606",
                                    "SalesPersonID": "NULL",
                                    "TerritoryID": "1",
                                    "BillToAddressID": "18404",
                                    "ShipToAddressID": "18404",
                                    "ShipMethodID": "1",
                                    "CreditCardID": "3043",
                                    "CreditCardApprovalCode": "430293Vi16007",
                                    "CurrencyRateID": "NULL",
                                    "SubTotal": "3578,27",
                                    "TaxAmt": "286,2616",
                                    "Freight": "89,4568",
                                    "TotalDue": "3953,9884",
                                    "Comment": "NULL",
                                    "rowguid": "c8651cc4-7bf4-4013-94b2-2ea9feaac442",
                                    "ModifiedDate": "2011-06-10 00:00:00.000"
                                },
                                {
                                    "SalesOrderID": "43712",
                                    "RevisionNumber": "8",
                                    "OrderDate": "2011-06-03 00:00:00.000",
                                    "DueDate": "2011-06-15 00:00:00.000",
                                    "ShipDate": "2011-06-10 00:00:00.000",
                                    "Status": "5",
                                    "OnlineOrderFlag": "1",
                                    "SalesOrderNumber": "SO43712",
                                    "PurchaseOrderNumber": "NULL",
                                    "AccountNumber": "10-4030-013513",
                                    "CustomerID": "13513",
                                    "SalesPersonID": "NULL",
                                    "TerritoryID": "8",
                                    "BillToAddressID": "21867",
                                    "ShipToAddressID": "21867",
                                    "ShipMethodID": "1",
                                    "CreditCardID": "6213",
                                    "CreditCardApprovalCode": "1231128Vi32292",
                                    "CurrencyRateID": "45",
                                    "SubTotal": "3578,27",
                                    "TaxAmt": "286,2616",
                                    "Freight": "89,4568",
                                    "TotalDue": "3953,9884",
                                    "Comment": "NULL",
                                    "rowguid": "725c5dfe-6eaa-43e3-9571-2b99692df51d",
                                    "ModifiedDate": "2011-06-10 00:00:00.000"
                                }
                            ]
                        },
                        "text/html": "<table><tr><th>SalesOrderID</th><th>RevisionNumber</th><th>OrderDate</th><th>DueDate</th><th>ShipDate</th><th>Status</th><th>OnlineOrderFlag</th><th>SalesOrderNumber</th><th>PurchaseOrderNumber</th><th>AccountNumber</th><th>CustomerID</th><th>SalesPersonID</th><th>TerritoryID</th><th>BillToAddressID</th><th>ShipToAddressID</th><th>ShipMethodID</th><th>CreditCardID</th><th>CreditCardApprovalCode</th><th>CurrencyRateID</th><th>SubTotal</th><th>TaxAmt</th><th>Freight</th><th>TotalDue</th><th>Comment</th><th>rowguid</th><th>ModifiedDate</th></tr><tr><td>43702</td><td>8</td><td>2011-06-01 00:00:00.000</td><td>2011-06-13 00:00:00.000</td><td>2011-06-08 00:00:00.000</td><td>5</td><td>1</td><td>SO43702</td><td>NULL</td><td>10-4030-027645</td><td>27645</td><td>NULL</td><td>4</td><td>22584</td><td>22584</td><td>1</td><td>8087</td><td>1230194Vi41919</td><td>NULL</td><td>3578,27</td><td>286,2616</td><td>89,4568</td><td>3953,9884</td><td>NULL</td><td>9310c7f0-9a84-4ce9-be08-f700fb1aadf7</td><td>2011-06-08 00:00:00.000</td></tr><tr><td>43703</td><td>8</td><td>2011-06-01 00:00:00.000</td><td>2011-06-13 00:00:00.000</td><td>2011-06-08 00:00:00.000</td><td>5</td><td>1</td><td>SO43703</td><td>NULL</td><td>10-4030-016624</td><td>16624</td><td>NULL</td><td>9</td><td>23967</td><td>23967</td><td>1</td><td>9497</td><td>1234632Vi48985</td><td>15</td><td>3578,27</td><td>286,2616</td><td>89,4568</td><td>3953,9884</td><td>NULL</td><td>cc630723-57f1-4e59-b1ef-bf77930b3906</td><td>2011-06-08 00:00:00.000</td></tr><tr><td>43704</td><td>8</td><td>2011-06-01 00:00:00.000</td><td>2011-06-13 00:00:00.000</td><td>2011-06-08 00:00:00.000</td><td>5</td><td>1</td><td>SO43704</td><td>NULL</td><td>10-4030-011005</td><td>11005</td><td>NULL</td><td>9</td><td>16025</td><td>16025</td><td>1</td><td>1988</td><td>835095Vi10342</td><td>15</td><td>3374,99</td><td>269,9992</td><td>84,3748</td><td>3729,364</td><td>NULL</td><td>b09af2d1-243d-444f-9784-fcfceb3fbb0a</td><td>2011-06-08 00:00:00.000</td></tr><tr><td>43705</td><td>8</td><td>2011-06-01 00:00:00.000</td><td>2011-06-13 00:00:00.000</td><td>2011-06-08 00:00:00.000</td><td>5</td><td>1</td><td>SO43705</td><td>NULL</td><td>10-4030-011011</td><td>11011</td><td>NULL</td><td>9</td><td>27345</td><td>27345</td><td>1</td><td>7205</td><td>1035101Vi37381</td><td>15</td><td>3399,99</td><td>271,9992</td><td>84,9998</td><td>3756,989</td><td>NULL</td><td>17a0ede6-6f1a-419d-bcf9-3638b79166d0</td><td>2011-06-08 00:00:00.000</td></tr><tr><td>43706</td><td>8</td><td>2011-06-02 00:00:00.000</td><td>2011-06-14 00:00:00.000</td><td>2011-06-09 00:00:00.000</td><td>5</td><td>1</td><td>SO43706</td><td>NULL</td><td>10-4030-027621</td><td>27621</td><td>NULL</td><td>4</td><td>13264</td><td>13264</td><td>1</td><td>10912</td><td>230189Vi56258</td><td>NULL</td><td>3578,27</td><td>286,2616</td><td>89,4568</td><td>3953,9884</td><td>NULL</td><td>f02c4cb6-a5b5-4ce4-9473-cb084e383196</td><td>2011-06-09 00:00:00.000</td></tr><tr><td>43707</td><td>8</td><td>2011-06-02 00:00:00.000</td><td>2011-06-14 00:00:00.000</td><td>2011-06-09 00:00:00.000</td><td>5</td><td>1</td><td>SO43707</td><td>NULL</td><td>10-4030-027616</td><td>27616</td><td>NULL</td><td>4</td><td>20923</td><td>20923</td><td>1</td><td>19069</td><td>230298Vi99064</td><td>NULL</td><td>3578,27</td><td>286,2616</td><td>89,4568</td><td>3953,9884</td><td>NULL</td><td>0da77d6e-223e-4bc6-a2ed-43b387692c68</td><td>2011-06-09 00:00:00.000</td></tr><tr><td>43708</td><td>8</td><td>2011-06-02 00:00:00.000</td><td>2011-06-14 00:00:00.000</td><td>2011-06-09 00:00:00.000</td><td>5</td><td>1</td><td>SO43708</td><td>NULL</td><td>10-4030-020042</td><td>20042</td><td>NULL</td><td>10</td><td>18427</td><td>18427</td><td>1</td><td>4369</td><td>130402Vi22912</td><td>35</td><td>699,0982</td><td>55,9279</td><td>17,4775</td><td>772,5036</td><td>NULL</td><td>c9743a57-08a7-4494-a4bf-4b226c0b35ec</td><td>2011-06-09 00:00:00.000</td></tr><tr><td>43709</td><td>8</td><td>2011-06-02 00:00:00.000</td><td>2011-06-14 00:00:00.000</td><td>2011-06-09 00:00:00.000</td><td>5</td><td>1</td><td>SO43709</td><td>NULL</td><td>10-4030-016351</td><td>16351</td><td>NULL</td><td>9</td><td>13951</td><td>13951</td><td>1</td><td>15524</td><td>1034602Vi80214</td><td>28</td><td>3578,27</td><td>286,2616</td><td>89,4568</td><td>3953,9884</td><td>NULL</td><td>5aa25d99-4ca5-4c80-bbb7-3d97664e2a80</td><td>2011-06-09 00:00:00.000</td></tr><tr><td>43710</td><td>8</td><td>2011-06-02 00:00:00.000</td><td>2011-06-14 00:00:00.000</td><td>2011-06-09 00:00:00.000</td><td>5</td><td>1</td><td>SO43710</td><td>NULL</td><td>10-4030-016517</td><td>16517</td><td>NULL</td><td>9</td><td>25446</td><td>25446</td><td>1</td><td>5764</td><td>1134614Vi30135</td><td>28</td><td>3578,27</td><td>286,2616</td><td>89,4568</td><td>3953,9884</td><td>NULL</td><td>22220985-4182-4c6f-ae48-e920f72f6095</td><td>2011-06-09 00:00:00.000</td></tr><tr><td>43711</td><td>8</td><td>2011-06-03 00:00:00.000</td><td>2011-06-15 00:00:00.000</td><td>2011-06-10 00:00:00.000</td><td>5</td><td>1</td><td>SO43711</td><td>NULL</td><td>10-4030-027606</td><td>27606</td><td>NULL</td><td>1</td><td>18404</td><td>18404</td><td>1</td><td>3043</td><td>430293Vi16007</td><td>NULL</td><td>3578,27</td><td>286,2616</td><td>89,4568</td><td>3953,9884</td><td>NULL</td><td>c8651cc4-7bf4-4013-94b2-2ea9feaac442</td><td>2011-06-10 00:00:00.000</td></tr><tr><td>43712</td><td>8</td><td>2011-06-03 00:00:00.000</td><td>2011-06-15 00:00:00.000</td><td>2011-06-10 00:00:00.000</td><td>5</td><td>1</td><td>SO43712</td><td>NULL</td><td>10-4030-013513</td><td>13513</td><td>NULL</td><td>8</td><td>21867</td><td>21867</td><td>1</td><td>6213</td><td>1231128Vi32292</td><td>45</td><td>3578,27</td><td>286,2616</td><td>89,4568</td><td>3953,9884</td><td>NULL</td><td>725c5dfe-6eaa-43e3-9571-2b99692df51d</td><td>2011-06-10 00:00:00.000</td></tr></table>"
                    },
                    "metadata": {}
                }
            ],
            "execution_count": 27
        },
        {
            "cell_type": "markdown",
            "source": [
                "One thing to note about this solution versus the previous solution is that all the column names are identified. In contrast, the previous solution used the asterisk to specify all the columns. **_Identifying all the columns by name is a better coding practice because your SELECT satatement will always return the same number os columns even if an additional column is added to your tabela_**. This is important when your application is expecting a specific number of columns to be returned from your SELECT statements."
            ],
            "metadata": {
                "language": "sql",
                "azdata_cell_guid": "8c4bb8a0-4695-4707-a035-7da9994f0637"
            },
            "attachments": {}
        }
    ]
}